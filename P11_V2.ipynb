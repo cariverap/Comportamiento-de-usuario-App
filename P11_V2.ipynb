{
 "cells": [
  {
   "cell_type": "markdown",
   "metadata": {},
   "source": [
    "## PROYECTO STARTUP PRODUCTOS ALIMINETICIOS\n",
    "\n",
    "OBJETIVO: Estudiar el comportamiento de usuario\n",
    "\n",
    "Cada entrada de registro es una acción de usuario o un evento.\n",
    "\n",
    "* EventName: nombre del evento.\n",
    "* DeviceIDHash: identificador de usuario unívoco.\n",
    "* EventTimestamp: hora del evento.\n",
    "* ExpId: número de experimento: 246 y 247 son los grupos de control, 248 es el grupo de prueba.\n",
    "\n",
    "---\n",
    "#### ETAPAS DEL PROYECTO \n",
    "* Etapa 1: Preparar datos para el análisis\n",
    "* Etapa 2: Estudiar y comprobar datos\n",
    "* Etapa 3: Estudiar el embudo de eventos \n",
    "* Etapa 4: Estudiar los resultados del experimento\n",
    "\n"
   ]
  },
  {
   "cell_type": "markdown",
   "metadata": {},
   "source": [
    "ETAPA 1: PREPARACIÓN DE LOS DATOS "
   ]
  },
  {
   "cell_type": "code",
   "execution_count": 35,
   "metadata": {},
   "outputs": [],
   "source": [
    "#importar librerias\n",
    "import pandas as pd\n",
    "import seaborn as sns \n",
    "import matplotlib.pyplot as plt\n",
    "import numpy as np\n",
    "import plotly.express as px\n",
    "import plotly.graph_objects as go\n",
    "from scipy import stats\n",
    "import statsmodels.api as sm\n"
   ]
  },
  {
   "cell_type": "code",
   "execution_count": 36,
   "metadata": {},
   "outputs": [
    {
     "data": {
      "text/html": [
       "<div>\n",
       "<style scoped>\n",
       "    .dataframe tbody tr th:only-of-type {\n",
       "        vertical-align: middle;\n",
       "    }\n",
       "\n",
       "    .dataframe tbody tr th {\n",
       "        vertical-align: top;\n",
       "    }\n",
       "\n",
       "    .dataframe thead th {\n",
       "        text-align: right;\n",
       "    }\n",
       "</style>\n",
       "<table border=\"1\" class=\"dataframe\">\n",
       "  <thead>\n",
       "    <tr style=\"text-align: right;\">\n",
       "      <th></th>\n",
       "      <th>EventName</th>\n",
       "      <th>DeviceIDHash</th>\n",
       "      <th>EventTimestamp</th>\n",
       "      <th>ExpId</th>\n",
       "    </tr>\n",
       "  </thead>\n",
       "  <tbody>\n",
       "    <tr>\n",
       "      <th>0</th>\n",
       "      <td>MainScreenAppear</td>\n",
       "      <td>4575588528974610257</td>\n",
       "      <td>1564029816</td>\n",
       "      <td>246</td>\n",
       "    </tr>\n",
       "    <tr>\n",
       "      <th>1</th>\n",
       "      <td>MainScreenAppear</td>\n",
       "      <td>7416695313311560658</td>\n",
       "      <td>1564053102</td>\n",
       "      <td>246</td>\n",
       "    </tr>\n",
       "    <tr>\n",
       "      <th>2</th>\n",
       "      <td>PaymentScreenSuccessful</td>\n",
       "      <td>3518123091307005509</td>\n",
       "      <td>1564054127</td>\n",
       "      <td>248</td>\n",
       "    </tr>\n",
       "    <tr>\n",
       "      <th>3</th>\n",
       "      <td>CartScreenAppear</td>\n",
       "      <td>3518123091307005509</td>\n",
       "      <td>1564054127</td>\n",
       "      <td>248</td>\n",
       "    </tr>\n",
       "    <tr>\n",
       "      <th>4</th>\n",
       "      <td>PaymentScreenSuccessful</td>\n",
       "      <td>6217807653094995999</td>\n",
       "      <td>1564055322</td>\n",
       "      <td>248</td>\n",
       "    </tr>\n",
       "    <tr>\n",
       "      <th>...</th>\n",
       "      <td>...</td>\n",
       "      <td>...</td>\n",
       "      <td>...</td>\n",
       "      <td>...</td>\n",
       "    </tr>\n",
       "    <tr>\n",
       "      <th>244121</th>\n",
       "      <td>MainScreenAppear</td>\n",
       "      <td>4599628364049201812</td>\n",
       "      <td>1565212345</td>\n",
       "      <td>247</td>\n",
       "    </tr>\n",
       "    <tr>\n",
       "      <th>244122</th>\n",
       "      <td>MainScreenAppear</td>\n",
       "      <td>5849806612437486590</td>\n",
       "      <td>1565212439</td>\n",
       "      <td>246</td>\n",
       "    </tr>\n",
       "    <tr>\n",
       "      <th>244123</th>\n",
       "      <td>MainScreenAppear</td>\n",
       "      <td>5746969938801999050</td>\n",
       "      <td>1565212483</td>\n",
       "      <td>246</td>\n",
       "    </tr>\n",
       "    <tr>\n",
       "      <th>244124</th>\n",
       "      <td>MainScreenAppear</td>\n",
       "      <td>5746969938801999050</td>\n",
       "      <td>1565212498</td>\n",
       "      <td>246</td>\n",
       "    </tr>\n",
       "    <tr>\n",
       "      <th>244125</th>\n",
       "      <td>OffersScreenAppear</td>\n",
       "      <td>5746969938801999050</td>\n",
       "      <td>1565212517</td>\n",
       "      <td>246</td>\n",
       "    </tr>\n",
       "  </tbody>\n",
       "</table>\n",
       "<p>244126 rows × 4 columns</p>\n",
       "</div>"
      ],
      "text/plain": [
       "                      EventName         DeviceIDHash  EventTimestamp  ExpId\n",
       "0              MainScreenAppear  4575588528974610257      1564029816    246\n",
       "1              MainScreenAppear  7416695313311560658      1564053102    246\n",
       "2       PaymentScreenSuccessful  3518123091307005509      1564054127    248\n",
       "3              CartScreenAppear  3518123091307005509      1564054127    248\n",
       "4       PaymentScreenSuccessful  6217807653094995999      1564055322    248\n",
       "...                         ...                  ...             ...    ...\n",
       "244121         MainScreenAppear  4599628364049201812      1565212345    247\n",
       "244122         MainScreenAppear  5849806612437486590      1565212439    246\n",
       "244123         MainScreenAppear  5746969938801999050      1565212483    246\n",
       "244124         MainScreenAppear  5746969938801999050      1565212498    246\n",
       "244125       OffersScreenAppear  5746969938801999050      1565212517    246\n",
       "\n",
       "[244126 rows x 4 columns]"
      ]
     },
     "execution_count": 36,
     "metadata": {},
     "output_type": "execute_result"
    }
   ],
   "source": [
    "#leer la base de datos \n",
    "data = pd.read_csv('logs_exp_us.csv', sep='\\t')\n",
    "data"
   ]
  },
  {
   "cell_type": "code",
   "execution_count": 37,
   "metadata": {},
   "outputs": [
    {
     "name": "stdout",
     "output_type": "stream",
     "text": [
      "<class 'pandas.core.frame.DataFrame'>\n",
      "RangeIndex: 244126 entries, 0 to 244125\n",
      "Data columns (total 4 columns):\n",
      " #   Column      Non-Null Count   Dtype         \n",
      "---  ------      --------------   -----         \n",
      " 0   event_name  244126 non-null  object        \n",
      " 1   user_id     244126 non-null  int64         \n",
      " 2   event_date  244126 non-null  datetime64[ns]\n",
      " 3   group       244126 non-null  int64         \n",
      "dtypes: datetime64[ns](1), int64(2), object(1)\n",
      "memory usage: 7.5+ MB\n"
     ]
    }
   ],
   "source": [
    "#cambiar el nombre de las columnas \n",
    "data.columns = ['event_name', 'user_id', 'event_date','group']\n",
    "data['event_date'] = pd.to_datetime(data['event_date'], unit='s')\n",
    "data.info()"
   ]
  },
  {
   "cell_type": "code",
   "execution_count": 38,
   "metadata": {},
   "outputs": [
    {
     "data": {
      "text/html": [
       "<div>\n",
       "<style scoped>\n",
       "    .dataframe tbody tr th:only-of-type {\n",
       "        vertical-align: middle;\n",
       "    }\n",
       "\n",
       "    .dataframe tbody tr th {\n",
       "        vertical-align: top;\n",
       "    }\n",
       "\n",
       "    .dataframe thead th {\n",
       "        text-align: right;\n",
       "    }\n",
       "</style>\n",
       "<table border=\"1\" class=\"dataframe\">\n",
       "  <thead>\n",
       "    <tr style=\"text-align: right;\">\n",
       "      <th></th>\n",
       "      <th>event_name</th>\n",
       "      <th>user_id</th>\n",
       "      <th>event_date</th>\n",
       "      <th>group</th>\n",
       "    </tr>\n",
       "  </thead>\n",
       "  <tbody>\n",
       "    <tr>\n",
       "      <th>0</th>\n",
       "      <td>MainScreenAppear</td>\n",
       "      <td>4575588528974610257</td>\n",
       "      <td>2019-07-25 04:43:36</td>\n",
       "      <td>246</td>\n",
       "    </tr>\n",
       "    <tr>\n",
       "      <th>1</th>\n",
       "      <td>MainScreenAppear</td>\n",
       "      <td>7416695313311560658</td>\n",
       "      <td>2019-07-25 11:11:42</td>\n",
       "      <td>246</td>\n",
       "    </tr>\n",
       "    <tr>\n",
       "      <th>2</th>\n",
       "      <td>PaymentScreenSuccessful</td>\n",
       "      <td>3518123091307005509</td>\n",
       "      <td>2019-07-25 11:28:47</td>\n",
       "      <td>248</td>\n",
       "    </tr>\n",
       "    <tr>\n",
       "      <th>3</th>\n",
       "      <td>CartScreenAppear</td>\n",
       "      <td>3518123091307005509</td>\n",
       "      <td>2019-07-25 11:28:47</td>\n",
       "      <td>248</td>\n",
       "    </tr>\n",
       "    <tr>\n",
       "      <th>4</th>\n",
       "      <td>PaymentScreenSuccessful</td>\n",
       "      <td>6217807653094995999</td>\n",
       "      <td>2019-07-25 11:48:42</td>\n",
       "      <td>248</td>\n",
       "    </tr>\n",
       "    <tr>\n",
       "      <th>...</th>\n",
       "      <td>...</td>\n",
       "      <td>...</td>\n",
       "      <td>...</td>\n",
       "      <td>...</td>\n",
       "    </tr>\n",
       "    <tr>\n",
       "      <th>244121</th>\n",
       "      <td>MainScreenAppear</td>\n",
       "      <td>4599628364049201812</td>\n",
       "      <td>2019-08-07 21:12:25</td>\n",
       "      <td>247</td>\n",
       "    </tr>\n",
       "    <tr>\n",
       "      <th>244122</th>\n",
       "      <td>MainScreenAppear</td>\n",
       "      <td>5849806612437486590</td>\n",
       "      <td>2019-08-07 21:13:59</td>\n",
       "      <td>246</td>\n",
       "    </tr>\n",
       "    <tr>\n",
       "      <th>244123</th>\n",
       "      <td>MainScreenAppear</td>\n",
       "      <td>5746969938801999050</td>\n",
       "      <td>2019-08-07 21:14:43</td>\n",
       "      <td>246</td>\n",
       "    </tr>\n",
       "    <tr>\n",
       "      <th>244124</th>\n",
       "      <td>MainScreenAppear</td>\n",
       "      <td>5746969938801999050</td>\n",
       "      <td>2019-08-07 21:14:58</td>\n",
       "      <td>246</td>\n",
       "    </tr>\n",
       "    <tr>\n",
       "      <th>244125</th>\n",
       "      <td>OffersScreenAppear</td>\n",
       "      <td>5746969938801999050</td>\n",
       "      <td>2019-08-07 21:15:17</td>\n",
       "      <td>246</td>\n",
       "    </tr>\n",
       "  </tbody>\n",
       "</table>\n",
       "<p>244126 rows × 4 columns</p>\n",
       "</div>"
      ],
      "text/plain": [
       "                     event_name              user_id          event_date  \\\n",
       "0              MainScreenAppear  4575588528974610257 2019-07-25 04:43:36   \n",
       "1              MainScreenAppear  7416695313311560658 2019-07-25 11:11:42   \n",
       "2       PaymentScreenSuccessful  3518123091307005509 2019-07-25 11:28:47   \n",
       "3              CartScreenAppear  3518123091307005509 2019-07-25 11:28:47   \n",
       "4       PaymentScreenSuccessful  6217807653094995999 2019-07-25 11:48:42   \n",
       "...                         ...                  ...                 ...   \n",
       "244121         MainScreenAppear  4599628364049201812 2019-08-07 21:12:25   \n",
       "244122         MainScreenAppear  5849806612437486590 2019-08-07 21:13:59   \n",
       "244123         MainScreenAppear  5746969938801999050 2019-08-07 21:14:43   \n",
       "244124         MainScreenAppear  5746969938801999050 2019-08-07 21:14:58   \n",
       "244125       OffersScreenAppear  5746969938801999050 2019-08-07 21:15:17   \n",
       "\n",
       "        group  \n",
       "0         246  \n",
       "1         246  \n",
       "2         248  \n",
       "3         248  \n",
       "4         248  \n",
       "...       ...  \n",
       "244121    247  \n",
       "244122    246  \n",
       "244123    246  \n",
       "244124    246  \n",
       "244125    246  \n",
       "\n",
       "[244126 rows x 4 columns]"
      ]
     },
     "execution_count": 38,
     "metadata": {},
     "output_type": "execute_result"
    }
   ],
   "source": [
    "data"
   ]
  },
  {
   "cell_type": "code",
   "execution_count": 39,
   "metadata": {},
   "outputs": [
    {
     "data": {
      "text/plain": [
       "array(['MainScreenAppear', 'PaymentScreenSuccessful', 'CartScreenAppear',\n",
       "       'OffersScreenAppear', 'Tutorial'], dtype=object)"
      ]
     },
     "execution_count": 39,
     "metadata": {},
     "output_type": "execute_result"
    }
   ],
   "source": [
    "#exploracion de datos \n",
    "data['event_name'].unique()"
   ]
  },
  {
   "cell_type": "code",
   "execution_count": 40,
   "metadata": {},
   "outputs": [
    {
     "data": {
      "text/html": [
       "<div>\n",
       "<style scoped>\n",
       "    .dataframe tbody tr th:only-of-type {\n",
       "        vertical-align: middle;\n",
       "    }\n",
       "\n",
       "    .dataframe tbody tr th {\n",
       "        vertical-align: top;\n",
       "    }\n",
       "\n",
       "    .dataframe thead th {\n",
       "        text-align: right;\n",
       "    }\n",
       "</style>\n",
       "<table border=\"1\" class=\"dataframe\">\n",
       "  <thead>\n",
       "    <tr style=\"text-align: right;\">\n",
       "      <th></th>\n",
       "      <th>user_id</th>\n",
       "      <th>event_date</th>\n",
       "      <th>group</th>\n",
       "    </tr>\n",
       "  </thead>\n",
       "  <tbody>\n",
       "    <tr>\n",
       "      <th>count</th>\n",
       "      <td>2.441260e+05</td>\n",
       "      <td>244126</td>\n",
       "      <td>244126.000000</td>\n",
       "    </tr>\n",
       "    <tr>\n",
       "      <th>mean</th>\n",
       "      <td>4.627568e+18</td>\n",
       "      <td>2019-08-04 10:18:35.842716160</td>\n",
       "      <td>247.022296</td>\n",
       "    </tr>\n",
       "    <tr>\n",
       "      <th>min</th>\n",
       "      <td>6.888747e+15</td>\n",
       "      <td>2019-07-25 04:43:36</td>\n",
       "      <td>246.000000</td>\n",
       "    </tr>\n",
       "    <tr>\n",
       "      <th>25%</th>\n",
       "      <td>2.372212e+18</td>\n",
       "      <td>2019-08-02 14:36:20.249999872</td>\n",
       "      <td>246.000000</td>\n",
       "    </tr>\n",
       "    <tr>\n",
       "      <th>50%</th>\n",
       "      <td>4.623192e+18</td>\n",
       "      <td>2019-08-04 11:49:55</td>\n",
       "      <td>247.000000</td>\n",
       "    </tr>\n",
       "    <tr>\n",
       "      <th>75%</th>\n",
       "      <td>6.932517e+18</td>\n",
       "      <td>2019-08-06 06:55:11</td>\n",
       "      <td>248.000000</td>\n",
       "    </tr>\n",
       "    <tr>\n",
       "      <th>max</th>\n",
       "      <td>9.222603e+18</td>\n",
       "      <td>2019-08-07 21:15:17</td>\n",
       "      <td>248.000000</td>\n",
       "    </tr>\n",
       "    <tr>\n",
       "      <th>std</th>\n",
       "      <td>2.642425e+18</td>\n",
       "      <td>NaN</td>\n",
       "      <td>0.824434</td>\n",
       "    </tr>\n",
       "  </tbody>\n",
       "</table>\n",
       "</div>"
      ],
      "text/plain": [
       "            user_id                     event_date          group\n",
       "count  2.441260e+05                         244126  244126.000000\n",
       "mean   4.627568e+18  2019-08-04 10:18:35.842716160     247.022296\n",
       "min    6.888747e+15            2019-07-25 04:43:36     246.000000\n",
       "25%    2.372212e+18  2019-08-02 14:36:20.249999872     246.000000\n",
       "50%    4.623192e+18            2019-08-04 11:49:55     247.000000\n",
       "75%    6.932517e+18            2019-08-06 06:55:11     248.000000\n",
       "max    9.222603e+18            2019-08-07 21:15:17     248.000000\n",
       "std    2.642425e+18                            NaN       0.824434"
      ]
     },
     "execution_count": 40,
     "metadata": {},
     "output_type": "execute_result"
    }
   ],
   "source": [
    "#exploracion de datos\n",
    "data.describe()"
   ]
  },
  {
   "cell_type": "code",
   "execution_count": 41,
   "metadata": {},
   "outputs": [
    {
     "name": "stdout",
     "output_type": "stream",
     "text": [
      "0\n"
     ]
    },
    {
     "data": {
      "text/plain": [
       "event_name    0\n",
       "user_id       0\n",
       "event_date    0\n",
       "group         0\n",
       "dtype: int64"
      ]
     },
     "execution_count": 41,
     "metadata": {},
     "output_type": "execute_result"
    }
   ],
   "source": [
    "#duplicados y datos nulos \n",
    "data.duplicated().sum()\n",
    "data.drop_duplicates(inplace=True)\n",
    "print(data.duplicated().sum())\n",
    "\n",
    "data.isna().sum()"
   ]
  },
  {
   "cell_type": "code",
   "execution_count": 42,
   "metadata": {},
   "outputs": [],
   "source": [
    "#crear columnas separadas para fecha y hora\n",
    "#una columna solo con la fecha\n",
    "data['date'] = data['event_date'].dt.date\n",
    "\n",
    "#una columna solo con la hora\n",
    "data['hour'] = data['event_date'].dt.time\n"
   ]
  },
  {
   "cell_type": "code",
   "execution_count": 43,
   "metadata": {},
   "outputs": [
    {
     "data": {
      "text/html": [
       "<div>\n",
       "<style scoped>\n",
       "    .dataframe tbody tr th:only-of-type {\n",
       "        vertical-align: middle;\n",
       "    }\n",
       "\n",
       "    .dataframe tbody tr th {\n",
       "        vertical-align: top;\n",
       "    }\n",
       "\n",
       "    .dataframe thead th {\n",
       "        text-align: right;\n",
       "    }\n",
       "</style>\n",
       "<table border=\"1\" class=\"dataframe\">\n",
       "  <thead>\n",
       "    <tr style=\"text-align: right;\">\n",
       "      <th></th>\n",
       "      <th>event_name</th>\n",
       "      <th>user_id</th>\n",
       "      <th>event_date</th>\n",
       "      <th>group</th>\n",
       "      <th>date</th>\n",
       "      <th>hour</th>\n",
       "    </tr>\n",
       "  </thead>\n",
       "  <tbody>\n",
       "    <tr>\n",
       "      <th>0</th>\n",
       "      <td>MainScreenAppear</td>\n",
       "      <td>4575588528974610257</td>\n",
       "      <td>2019-07-25 04:43:36</td>\n",
       "      <td>246</td>\n",
       "      <td>2019-07-25</td>\n",
       "      <td>04:43:36</td>\n",
       "    </tr>\n",
       "    <tr>\n",
       "      <th>1</th>\n",
       "      <td>MainScreenAppear</td>\n",
       "      <td>7416695313311560658</td>\n",
       "      <td>2019-07-25 11:11:42</td>\n",
       "      <td>246</td>\n",
       "      <td>2019-07-25</td>\n",
       "      <td>11:11:42</td>\n",
       "    </tr>\n",
       "    <tr>\n",
       "      <th>2</th>\n",
       "      <td>PaymentScreenSuccessful</td>\n",
       "      <td>3518123091307005509</td>\n",
       "      <td>2019-07-25 11:28:47</td>\n",
       "      <td>248</td>\n",
       "      <td>2019-07-25</td>\n",
       "      <td>11:28:47</td>\n",
       "    </tr>\n",
       "    <tr>\n",
       "      <th>3</th>\n",
       "      <td>CartScreenAppear</td>\n",
       "      <td>3518123091307005509</td>\n",
       "      <td>2019-07-25 11:28:47</td>\n",
       "      <td>248</td>\n",
       "      <td>2019-07-25</td>\n",
       "      <td>11:28:47</td>\n",
       "    </tr>\n",
       "    <tr>\n",
       "      <th>4</th>\n",
       "      <td>PaymentScreenSuccessful</td>\n",
       "      <td>6217807653094995999</td>\n",
       "      <td>2019-07-25 11:48:42</td>\n",
       "      <td>248</td>\n",
       "      <td>2019-07-25</td>\n",
       "      <td>11:48:42</td>\n",
       "    </tr>\n",
       "    <tr>\n",
       "      <th>...</th>\n",
       "      <td>...</td>\n",
       "      <td>...</td>\n",
       "      <td>...</td>\n",
       "      <td>...</td>\n",
       "      <td>...</td>\n",
       "      <td>...</td>\n",
       "    </tr>\n",
       "    <tr>\n",
       "      <th>244121</th>\n",
       "      <td>MainScreenAppear</td>\n",
       "      <td>4599628364049201812</td>\n",
       "      <td>2019-08-07 21:12:25</td>\n",
       "      <td>247</td>\n",
       "      <td>2019-08-07</td>\n",
       "      <td>21:12:25</td>\n",
       "    </tr>\n",
       "    <tr>\n",
       "      <th>244122</th>\n",
       "      <td>MainScreenAppear</td>\n",
       "      <td>5849806612437486590</td>\n",
       "      <td>2019-08-07 21:13:59</td>\n",
       "      <td>246</td>\n",
       "      <td>2019-08-07</td>\n",
       "      <td>21:13:59</td>\n",
       "    </tr>\n",
       "    <tr>\n",
       "      <th>244123</th>\n",
       "      <td>MainScreenAppear</td>\n",
       "      <td>5746969938801999050</td>\n",
       "      <td>2019-08-07 21:14:43</td>\n",
       "      <td>246</td>\n",
       "      <td>2019-08-07</td>\n",
       "      <td>21:14:43</td>\n",
       "    </tr>\n",
       "    <tr>\n",
       "      <th>244124</th>\n",
       "      <td>MainScreenAppear</td>\n",
       "      <td>5746969938801999050</td>\n",
       "      <td>2019-08-07 21:14:58</td>\n",
       "      <td>246</td>\n",
       "      <td>2019-08-07</td>\n",
       "      <td>21:14:58</td>\n",
       "    </tr>\n",
       "    <tr>\n",
       "      <th>244125</th>\n",
       "      <td>OffersScreenAppear</td>\n",
       "      <td>5746969938801999050</td>\n",
       "      <td>2019-08-07 21:15:17</td>\n",
       "      <td>246</td>\n",
       "      <td>2019-08-07</td>\n",
       "      <td>21:15:17</td>\n",
       "    </tr>\n",
       "  </tbody>\n",
       "</table>\n",
       "<p>243713 rows × 6 columns</p>\n",
       "</div>"
      ],
      "text/plain": [
       "                     event_name              user_id          event_date  \\\n",
       "0              MainScreenAppear  4575588528974610257 2019-07-25 04:43:36   \n",
       "1              MainScreenAppear  7416695313311560658 2019-07-25 11:11:42   \n",
       "2       PaymentScreenSuccessful  3518123091307005509 2019-07-25 11:28:47   \n",
       "3              CartScreenAppear  3518123091307005509 2019-07-25 11:28:47   \n",
       "4       PaymentScreenSuccessful  6217807653094995999 2019-07-25 11:48:42   \n",
       "...                         ...                  ...                 ...   \n",
       "244121         MainScreenAppear  4599628364049201812 2019-08-07 21:12:25   \n",
       "244122         MainScreenAppear  5849806612437486590 2019-08-07 21:13:59   \n",
       "244123         MainScreenAppear  5746969938801999050 2019-08-07 21:14:43   \n",
       "244124         MainScreenAppear  5746969938801999050 2019-08-07 21:14:58   \n",
       "244125       OffersScreenAppear  5746969938801999050 2019-08-07 21:15:17   \n",
       "\n",
       "        group        date      hour  \n",
       "0         246  2019-07-25  04:43:36  \n",
       "1         246  2019-07-25  11:11:42  \n",
       "2         248  2019-07-25  11:28:47  \n",
       "3         248  2019-07-25  11:28:47  \n",
       "4         248  2019-07-25  11:48:42  \n",
       "...       ...         ...       ...  \n",
       "244121    247  2019-08-07  21:12:25  \n",
       "244122    246  2019-08-07  21:13:59  \n",
       "244123    246  2019-08-07  21:14:43  \n",
       "244124    246  2019-08-07  21:14:58  \n",
       "244125    246  2019-08-07  21:15:17  \n",
       "\n",
       "[243713 rows x 6 columns]"
      ]
     },
     "execution_count": 43,
     "metadata": {},
     "output_type": "execute_result"
    }
   ],
   "source": [
    "data"
   ]
  },
  {
   "cell_type": "markdown",
   "metadata": {},
   "source": [
    "ETAPA 2: ESTUDIAR Y COMPROBAR LOS DATOS\n",
    "\n",
    "* ¿Cuántos eventos hay en los registros?\n",
    "* ¿Cuántos usuarios y usuarias hay en los registros?\n",
    "* ¿Cuál es el promedio de eventos por usuario?\n",
    "* ¿Qué periodo de tiempo cubren los datos? Encuentra la fecha máxima y mínima. Traza un histograma por fecha y hora. ¿Puedes tener seguridad de que tienes datos igualmente completos para todo el periodo? Los eventos más antiguos podrían terminar en los registros de algunos usuarios o usuarias por razones técnicas y esto podría sesgar el panorama general. Encuentra el momento en el que los datos comienzan a estar completos e ignora la sección anterior. ¿Qué periodo representan realmente los datos?\n",
    "* ¿Perdiste muchos eventos y usuarios al excluir los datos más antiguos?\n",
    "* Asegúrate de tener usuarios y usuarias de los tres grupos experimentales."
   ]
  },
  {
   "cell_type": "code",
   "execution_count": 44,
   "metadata": {},
   "outputs": [
    {
     "data": {
      "text/html": [
       "<div>\n",
       "<style scoped>\n",
       "    .dataframe tbody tr th:only-of-type {\n",
       "        vertical-align: middle;\n",
       "    }\n",
       "\n",
       "    .dataframe tbody tr th {\n",
       "        vertical-align: top;\n",
       "    }\n",
       "\n",
       "    .dataframe thead th {\n",
       "        text-align: right;\n",
       "    }\n",
       "</style>\n",
       "<table border=\"1\" class=\"dataframe\">\n",
       "  <thead>\n",
       "    <tr style=\"text-align: right;\">\n",
       "      <th></th>\n",
       "      <th>event_name</th>\n",
       "      <th>count</th>\n",
       "    </tr>\n",
       "  </thead>\n",
       "  <tbody>\n",
       "    <tr>\n",
       "      <th>0</th>\n",
       "      <td>MainScreenAppear</td>\n",
       "      <td>119101</td>\n",
       "    </tr>\n",
       "    <tr>\n",
       "      <th>1</th>\n",
       "      <td>OffersScreenAppear</td>\n",
       "      <td>46808</td>\n",
       "    </tr>\n",
       "    <tr>\n",
       "      <th>2</th>\n",
       "      <td>CartScreenAppear</td>\n",
       "      <td>42668</td>\n",
       "    </tr>\n",
       "    <tr>\n",
       "      <th>3</th>\n",
       "      <td>PaymentScreenSuccessful</td>\n",
       "      <td>34118</td>\n",
       "    </tr>\n",
       "    <tr>\n",
       "      <th>4</th>\n",
       "      <td>Tutorial</td>\n",
       "      <td>1018</td>\n",
       "    </tr>\n",
       "  </tbody>\n",
       "</table>\n",
       "</div>"
      ],
      "text/plain": [
       "                event_name   count\n",
       "0         MainScreenAppear  119101\n",
       "1       OffersScreenAppear   46808\n",
       "2         CartScreenAppear   42668\n",
       "3  PaymentScreenSuccessful   34118\n",
       "4                 Tutorial    1018"
      ]
     },
     "execution_count": 44,
     "metadata": {},
     "output_type": "execute_result"
    }
   ],
   "source": [
    "#cuantos eventos hay en los registros\n",
    "n_events = data['event_name'].value_counts().reset_index()\n",
    "n_events\n"
   ]
  },
  {
   "cell_type": "code",
   "execution_count": 45,
   "metadata": {},
   "outputs": [
    {
     "data": {
      "image/png": "[encoded data removed]",
      "text/plain": [
       "<Figure size 1000x600 with 1 Axes>"
      ]
     },
     "metadata": {},
     "output_type": "display_data"
    }
   ],
   "source": [
    "#gráfico de barras para visualizar la cantidad de cada evento\n",
    "plt.figure(figsize=(10, 6))\n",
    "sns.barplot(data=n_events, x='event_name', y='count', palette='plasma')\n",
    "plt.title('Cantidad de Cada Evento')\n",
    "plt.xlabel('Evento')\n",
    "plt.ylabel('Cantidad')\n",
    "plt.xticks(rotation=45)\n",
    "plt.show()"
   ]
  },
  {
   "cell_type": "code",
   "execution_count": 46,
   "metadata": {},
   "outputs": [
    {
     "data": {
      "application/vnd.plotly.v1+json": {
       "config": {
        "plotlyServerURL": "https://plot.ly"
       },
       "data": [
        {
         "hovertemplate": "event_name=%{y}<br>proportion=%{x}<extra></extra>",
         "legendgroup": "Tutorial",
         "marker": {
          "color": "#636efa"
         },
         "name": "Tutorial",
         "orientation": "h",
         "showlegend": true,
         "type": "funnel",
         "x": [
          0.4177044310315822
         ],
         "xaxis": "x",
         "y": [
          "Tutorial"
         ],
         "yaxis": "y"
        },
        {
         "hovertemplate": "event_name=%{y}<br>proportion=%{x}<extra></extra>",
         "legendgroup": "PaymentScreenSuccessful",
         "marker": {
          "color": "#EF553B"
         },
         "name": "PaymentScreenSuccessful",
         "orientation": "h",
         "showlegend": true,
         "type": "funnel",
         "x": [
          13.999253219975955
         ],
         "xaxis": "x",
         "y": [
          "PaymentScreenSuccessful"
         ],
         "yaxis": "y"
        },
        {
         "hovertemplate": "event_name=%{y}<br>proportion=%{x}<extra></extra>",
         "legendgroup": "CartScreenAppear",
         "marker": {
          "color": "#00cc96"
         },
         "name": "CartScreenAppear",
         "orientation": "h",
         "showlegend": true,
         "type": "funnel",
         "x": [
          17.50747805820781
         ],
         "xaxis": "x",
         "y": [
          "CartScreenAppear"
         ],
         "yaxis": "y"
        },
        {
         "hovertemplate": "event_name=%{y}<br>proportion=%{x}<extra></extra>",
         "legendgroup": "OffersScreenAppear",
         "marker": {
          "color": "#ab63fa"
         },
         "name": "OffersScreenAppear",
         "orientation": "h",
         "showlegend": true,
         "type": "funnel",
         "x": [
          19.206197453562183
         ],
         "xaxis": "x",
         "y": [
          "OffersScreenAppear"
         ],
         "yaxis": "y"
        },
        {
         "hovertemplate": "event_name=%{y}<br>proportion=%{x}<extra></extra>",
         "legendgroup": "MainScreenAppear",
         "marker": {
          "color": "#FFA15A"
         },
         "name": "MainScreenAppear",
         "orientation": "h",
         "showlegend": true,
         "type": "funnel",
         "x": [
          48.86936683722247
         ],
         "xaxis": "x",
         "y": [
          "MainScreenAppear"
         ],
         "yaxis": "y"
        }
       ],
       "layout": {
        "legend": {
         "title": {
          "text": "event_name"
         },
         "tracegroupgap": 0
        },
        "template": {
         "data": {
          "bar": [
           {
            "error_x": {
             "color": "#2a3f5f"
            },
            "error_y": {
             "color": "#2a3f5f"
            },
            "marker": {
             "line": {
              "color": "#E5ECF6",
              "width": 0.5
             },
             "pattern": {
              "fillmode": "overlay",
              "size": 10,
              "solidity": 0.2
             }
            },
            "type": "bar"
           }
          ],
          "barpolar": [
           {
            "marker": {
             "line": {
              "color": "#E5ECF6",
              "width": 0.5
             },
             "pattern": {
              "fillmode": "overlay",
              "size": 10,
              "solidity": 0.2
             }
            },
            "type": "barpolar"
           }
          ],
          "carpet": [
           {
            "aaxis": {
             "endlinecolor": "#2a3f5f",
             "gridcolor": "white",
             "linecolor": "white",
             "minorgridcolor": "white",
             "startlinecolor": "#2a3f5f"
            },
            "baxis": {
             "endlinecolor": "#2a3f5f",
             "gridcolor": "white",
             "linecolor": "white",
             "minorgridcolor": "white",
             "startlinecolor": "#2a3f5f"
            },
            "type": "carpet"
           }
          ],
          "choropleth": [
           {
            "colorbar": {
             "outlinewidth": 0,
             "ticks": ""
            },
            "type": "choropleth"
           }
          ],
          "contour": [
           {
            "colorbar": {
             "outlinewidth": 0,
             "ticks": ""
            },
            "colorscale": [
             [
              0,
              "#0d0887"
             ],
             [
              0.1111111111111111,
              "#46039f"
             ],
             [
              0.2222222222222222,
              "#7201a8"
             ],
             [
              0.3333333333333333,
              "#9c179e"
             ],
             [
              0.4444444444444444,
              "#bd3786"
             ],
             [
              0.5555555555555556,
              "#d8576b"
             ],
             [
              0.6666666666666666,
              "#ed7953"
             ],
             [
              0.7777777777777778,
              "#fb9f3a"
             ],
             [
              0.8888888888888888,
              "#fdca26"
             ],
             [
              1,
              "#f0f921"
             ]
            ],
            "type": "contour"
           }
          ],
          "contourcarpet": [
           {
            "colorbar": {
             "outlinewidth": 0,
             "ticks": ""
            },
            "type": "contourcarpet"
           }
          ],
          "heatmap": [
           {
            "colorbar": {
             "outlinewidth": 0,
             "ticks": ""
            },
            "colorscale": [
             [
              0,
              "#0d0887"
             ],
             [
              0.1111111111111111,
              "#46039f"
             ],
             [
              0.2222222222222222,
              "#7201a8"
             ],
             [
              0.3333333333333333,
              "#9c179e"
             ],
             [
              0.4444444444444444,
              "#bd3786"
             ],
             [
              0.5555555555555556,
              "#d8576b"
             ],
             [
              0.6666666666666666,
              "#ed7953"
             ],
             [
              0.7777777777777778,
              "#fb9f3a"
             ],
             [
              0.8888888888888888,
              "#fdca26"
             ],
             [
              1,
              "#f0f921"
             ]
            ],
            "type": "heatmap"
           }
          ],
          "heatmapgl": [
           {
            "colorbar": {
             "outlinewidth": 0,
             "ticks": ""
            },
            "colorscale": [
             [
              0,
              "#0d0887"
             ],
             [
              0.1111111111111111,
              "#46039f"
             ],
             [
              0.2222222222222222,
              "#7201a8"
             ],
             [
              0.3333333333333333,
              "#9c179e"
             ],
             [
              0.4444444444444444,
              "#bd3786"
             ],
             [
              0.5555555555555556,
              "#d8576b"
             ],
             [
              0.6666666666666666,
              "#ed7953"
             ],
             [
              0.7777777777777778,
              "#fb9f3a"
             ],
             [
              0.8888888888888888,
              "#fdca26"
             ],
             [
              1,
              "#f0f921"
             ]
            ],
            "type": "heatmapgl"
           }
          ],
          "histogram": [
           {
            "marker": {
             "pattern": {
              "fillmode": "overlay",
              "size": 10,
              "solidity": 0.2
             }
            },
            "type": "histogram"
           }
          ],
          "histogram2d": [
           {
            "colorbar": {
             "outlinewidth": 0,
             "ticks": ""
            },
            "colorscale": [
             [
              0,
              "#0d0887"
             ],
             [
              0.1111111111111111,
              "#46039f"
             ],
             [
              0.2222222222222222,
              "#7201a8"
             ],
             [
              0.3333333333333333,
              "#9c179e"
             ],
             [
              0.4444444444444444,
              "#bd3786"
             ],
             [
              0.5555555555555556,
              "#d8576b"
             ],
             [
              0.6666666666666666,
              "#ed7953"
             ],
             [
              0.7777777777777778,
              "#fb9f3a"
             ],
             [
              0.8888888888888888,
              "#fdca26"
             ],
             [
              1,
              "#f0f921"
             ]
            ],
            "type": "histogram2d"
           }
          ],
          "histogram2dcontour": [
           {
            "colorbar": {
             "outlinewidth": 0,
             "ticks": ""
            },
            "colorscale": [
             [
              0,
              "#0d0887"
             ],
             [
              0.1111111111111111,
              "#46039f"
             ],
             [
              0.2222222222222222,
              "#7201a8"
             ],
             [
              0.3333333333333333,
              "#9c179e"
             ],
             [
              0.4444444444444444,
              "#bd3786"
             ],
             [
              0.5555555555555556,
              "#d8576b"
             ],
             [
              0.6666666666666666,
              "#ed7953"
             ],
             [
              0.7777777777777778,
              "#fb9f3a"
             ],
             [
              0.8888888888888888,
              "#fdca26"
             ],
             [
              1,
              "#f0f921"
             ]
            ],
            "type": "histogram2dcontour"
           }
          ],
          "mesh3d": [
           {
            "colorbar": {
             "outlinewidth": 0,
             "ticks": ""
            },
            "type": "mesh3d"
           }
          ],
          "parcoords": [
           {
            "line": {
             "colorbar": {
              "outlinewidth": 0,
              "ticks": ""
             }
            },
            "type": "parcoords"
           }
          ],
          "pie": [
           {
            "automargin": true,
            "type": "pie"
           }
          ],
          "scatter": [
           {
            "fillpattern": {
             "fillmode": "overlay",
             "size": 10,
             "solidity": 0.2
            },
            "type": "scatter"
           }
          ],
          "scatter3d": [
           {
            "line": {
             "colorbar": {
              "outlinewidth": 0,
              "ticks": ""
             }
            },
            "marker": {
             "colorbar": {
              "outlinewidth": 0,
              "ticks": ""
             }
            },
            "type": "scatter3d"
           }
          ],
          "scattercarpet": [
           {
            "marker": {
             "colorbar": {
              "outlinewidth": 0,
              "ticks": ""
             }
            },
            "type": "scattercarpet"
           }
          ],
          "scattergeo": [
           {
            "marker": {
             "colorbar": {
              "outlinewidth": 0,
              "ticks": ""
             }
            },
            "type": "scattergeo"
           }
          ],
          "scattergl": [
           {
            "marker": {
             "colorbar": {
              "outlinewidth": 0,
              "ticks": ""
             }
            },
            "type": "scattergl"
           }
          ],
          "scattermapbox": [
           {
            "marker": {
             "colorbar": {
              "outlinewidth": 0,
              "ticks": ""
             }
            },
            "type": "scattermapbox"
           }
          ],
          "scatterpolar": [
           {
            "marker": {
             "colorbar": {
              "outlinewidth": 0,
              "ticks": ""
             }
            },
            "type": "scatterpolar"
           }
          ],
          "scatterpolargl": [
           {
            "marker": {
             "colorbar": {
              "outlinewidth": 0,
              "ticks": ""
             }
            },
            "type": "scatterpolargl"
           }
          ],
          "scatterternary": [
           {
            "marker": {
             "colorbar": {
              "outlinewidth": 0,
              "ticks": ""
             }
            },
            "type": "scatterternary"
           }
          ],
          "surface": [
           {
            "colorbar": {
             "outlinewidth": 0,
             "ticks": ""
            },
            "colorscale": [
             [
              0,
              "#0d0887"
             ],
             [
              0.1111111111111111,
              "#46039f"
             ],
             [
              0.2222222222222222,
              "#7201a8"
             ],
             [
              0.3333333333333333,
              "#9c179e"
             ],
             [
              0.4444444444444444,
              "#bd3786"
             ],
             [
              0.5555555555555556,
              "#d8576b"
             ],
             [
              0.6666666666666666,
              "#ed7953"
             ],
             [
              0.7777777777777778,
              "#fb9f3a"
             ],
             [
              0.8888888888888888,
              "#fdca26"
             ],
             [
              1,
              "#f0f921"
             ]
            ],
            "type": "surface"
           }
          ],
          "table": [
           {
            "cells": {
             "fill": {
              "color": "#EBF0F8"
             },
             "line": {
              "color": "white"
             }
            },
            "header": {
             "fill": {
              "color": "#C8D4E3"
             },
             "line": {
              "color": "white"
             }
            },
            "type": "table"
           }
          ]
         },
         "layout": {
          "annotationdefaults": {
           "arrowcolor": "#2a3f5f",
           "arrowhead": 0,
           "arrowwidth": 1
          },
          "autotypenumbers": "strict",
          "coloraxis": {
           "colorbar": {
            "outlinewidth": 0,
            "ticks": ""
           }
          },
          "colorscale": {
           "diverging": [
            [
             0,
             "#8e0152"
            ],
            [
             0.1,
             "#c51b7d"
            ],
            [
             0.2,
             "#de77ae"
            ],
            [
             0.3,
             "#f1b6da"
            ],
            [
             0.4,
             "#fde0ef"
            ],
            [
             0.5,
             "#f7f7f7"
            ],
            [
             0.6,
             "#e6f5d0"
            ],
            [
             0.7,
             "#b8e186"
            ],
            [
             0.8,
             "#7fbc41"
            ],
            [
             0.9,
             "#4d9221"
            ],
            [
             1,
             "#276419"
            ]
           ],
           "sequential": [
            [
             0,
             "#0d0887"
            ],
            [
             0.1111111111111111,
             "#46039f"
            ],
            [
             0.2222222222222222,
             "#7201a8"
            ],
            [
             0.3333333333333333,
             "#9c179e"
            ],
            [
             0.4444444444444444,
             "#bd3786"
            ],
            [
             0.5555555555555556,
             "#d8576b"
            ],
            [
             0.6666666666666666,
             "#ed7953"
            ],
            [
             0.7777777777777778,
             "#fb9f3a"
            ],
            [
             0.8888888888888888,
             "#fdca26"
            ],
            [
             1,
             "#f0f921"
            ]
           ],
           "sequentialminus": [
            [
             0,
             "#0d0887"
            ],
            [
             0.1111111111111111,
             "#46039f"
            ],
            [
             0.2222222222222222,
             "#7201a8"
            ],
            [
             0.3333333333333333,
             "#9c179e"
            ],
            [
             0.4444444444444444,
             "#bd3786"
            ],
            [
             0.5555555555555556,
             "#d8576b"
            ],
            [
             0.6666666666666666,
             "#ed7953"
            ],
            [
             0.7777777777777778,
             "#fb9f3a"
            ],
            [
             0.8888888888888888,
             "#fdca26"
            ],
            [
             1,
             "#f0f921"
            ]
           ]
          },
          "colorway": [
           "#636efa",
           "#EF553B",
           "#00cc96",
           "#ab63fa",
           "#FFA15A",
           "#19d3f3",
           "#FF6692",
           "#B6E880",
           "#FF97FF",
           "#FECB52"
          ],
          "font": {
           "color": "#2a3f5f"
          },
          "geo": {
           "bgcolor": "white",
           "lakecolor": "white",
           "landcolor": "#E5ECF6",
           "showlakes": true,
           "showland": true,
           "subunitcolor": "white"
          },
          "hoverlabel": {
           "align": "left"
          },
          "hovermode": "closest",
          "mapbox": {
           "style": "light"
          },
          "paper_bgcolor": "white",
          "plot_bgcolor": "#E5ECF6",
          "polar": {
           "angularaxis": {
            "gridcolor": "white",
            "linecolor": "white",
            "ticks": ""
           },
           "bgcolor": "#E5ECF6",
           "radialaxis": {
            "gridcolor": "white",
            "linecolor": "white",
            "ticks": ""
           }
          },
          "scene": {
           "xaxis": {
            "backgroundcolor": "#E5ECF6",
            "gridcolor": "white",
            "gridwidth": 2,
            "linecolor": "white",
            "showbackground": true,
            "ticks": "",
            "zerolinecolor": "white"
           },
           "yaxis": {
            "backgroundcolor": "#E5ECF6",
            "gridcolor": "white",
            "gridwidth": 2,
            "linecolor": "white",
            "showbackground": true,
            "ticks": "",
            "zerolinecolor": "white"
           },
           "zaxis": {
            "backgroundcolor": "#E5ECF6",
            "gridcolor": "white",
            "gridwidth": 2,
            "linecolor": "white",
            "showbackground": true,
            "ticks": "",
            "zerolinecolor": "white"
           }
          },
          "shapedefaults": {
           "line": {
            "color": "#2a3f5f"
           }
          },
          "ternary": {
           "aaxis": {
            "gridcolor": "white",
            "linecolor": "white",
            "ticks": ""
           },
           "baxis": {
            "gridcolor": "white",
            "linecolor": "white",
            "ticks": ""
           },
           "bgcolor": "#E5ECF6",
           "caxis": {
            "gridcolor": "white",
            "linecolor": "white",
            "ticks": ""
           }
          },
          "title": {
           "x": 0.05
          },
          "xaxis": {
           "automargin": true,
           "gridcolor": "white",
           "linecolor": "white",
           "ticks": "",
           "title": {
            "standoff": 15
           },
           "zerolinecolor": "white",
           "zerolinewidth": 2
          },
          "yaxis": {
           "automargin": true,
           "gridcolor": "white",
           "linecolor": "white",
           "ticks": "",
           "title": {
            "standoff": 15
           },
           "zerolinecolor": "white",
           "zerolinewidth": 2
          }
         }
        },
        "title": {
         "text": "Porcentaje de Cada Evento"
        },
        "xaxis": {
         "anchor": "y",
         "domain": [
          0,
          1
         ],
         "title": {
          "text": "proportion"
         }
        },
        "yaxis": {
         "anchor": "x",
         "categoryarray": [
          "MainScreenAppear",
          "OffersScreenAppear",
          "CartScreenAppear",
          "PaymentScreenSuccessful",
          "Tutorial"
         ],
         "categoryorder": "array",
         "domain": [
          0,
          1
         ],
         "title": {
          "text": "event_name"
         }
        }
       }
      }
     },
     "metadata": {},
     "output_type": "display_data"
    }
   ],
   "source": [
    "# Calcular el porcentaje de cada evento\n",
    "n_events['proportion'] = (n_events['count'] /n_events['count'].sum()) * 100\n",
    "\n",
    "n_events = n_events.sort_values(by='count')\n",
    "\n",
    "# Crear un gráfico de embudo para visualizar el porcentaje de cada evento\n",
    "fig = px.funnel(n_events, x='proportion', y='event_name', color='event_name', title='Porcentaje de Cada Evento')\n",
    "fig.show()"
   ]
  },
  {
   "cell_type": "markdown",
   "metadata": {},
   "source": [
    "\t\n",
    "Segun los gráficos existen un total de 119101 entradas a MainScreenAppear, 46808 en OffersScreenAppear, 42668 en CartScreenAppear, 34118 en PaymentScreenSuccessful y solamente 1018 entradas en Tutorial, esto representaría un porcentaje de acción en los usuarios de un 49%, 19%, 17%, 14% y 0.4% en cada evento respectivamente. "
   ]
  },
  {
   "cell_type": "code",
   "execution_count": 47,
   "metadata": {},
   "outputs": [
    {
     "name": "stdout",
     "output_type": "stream",
     "text": [
      "                event_name  user_id\n",
      "4                 Tutorial      847\n",
      "3  PaymentScreenSuccessful     3547\n",
      "0         CartScreenAppear     3749\n",
      "2       OffersScreenAppear     4613\n",
      "1         MainScreenAppear     7439\n"
     ]
    },
    {
     "data": {
      "image/png": "[encoded data removed]",
      "text/plain": [
       "<Figure size 640x480 with 1 Axes>"
      ]
     },
     "metadata": {},
     "output_type": "display_data"
    }
   ],
   "source": [
    "#cantidad de usuarios por evento\n",
    "\n",
    "n_users_per_event = data.groupby('event_name')['user_id'].nunique().reset_index()\n",
    "print(n_users_per_event.sort_values(by='user_id'))\n",
    "\n",
    "#cantidad de usuarios unicos que realizaron una interacion en distintas partes de la pagina \n",
    "sns.barplot(n_users_per_event, x='event_name', y='user_id', palette='plasma')\n",
    "plt.title('Cantidad de usuarios unicos en los registros')\n",
    "plt.xlabel('Evento')\n",
    "plt.ylabel('Usuarios unicos')\n",
    "plt.xticks(rotation=45)\n",
    "plt.show()"
   ]
  },
  {
   "cell_type": "code",
   "execution_count": 48,
   "metadata": {},
   "outputs": [
    {
     "data": {
      "text/plain": [
       "7551"
      ]
     },
     "execution_count": 48,
     "metadata": {},
     "output_type": "execute_result"
    }
   ],
   "source": [
    "#usuarios unicos \n",
    "data['user_id'].nunique()"
   ]
  },
  {
   "cell_type": "code",
   "execution_count": 49,
   "metadata": {},
   "outputs": [
    {
     "name": "stdout",
     "output_type": "stream",
     "text": [
      "Promedio de eventos por usuario: 32.27559263673685\n"
     ]
    },
    {
     "name": "stderr",
     "output_type": "stream",
     "text": [
      "c:\\Users\\Cata Rivera\\anaconda3\\Lib\\site-packages\\seaborn\\_oldcore.py:1119: FutureWarning:\n",
      "\n",
      "use_inf_as_na option is deprecated and will be removed in a future version. Convert inf values to NaN before operating instead.\n",
      "\n"
     ]
    },
    {
     "data": {
      "image/png": "[encoded data removed]",
      "text/plain": [
       "<Figure size 1000x600 with 1 Axes>"
      ]
     },
     "metadata": {},
     "output_type": "display_data"
    }
   ],
   "source": [
    "#promedio de eventos pos usuario \n",
    "event_per_user = data.groupby('user_id')['event_name'].count().reset_index()\n",
    "event_per_user.columns = ['user_id', 'n_event']\n",
    "event_per_user\n",
    "print('Promedio de eventos por usuario:', event_per_user['n_event'].mean())\n",
    "\n",
    "#Histograma de eventos por usuario \n",
    "plt.figure(figsize=(10, 6))\n",
    "sns.histplot(event_per_user['n_event'], bins=50, kde=True)\n",
    "plt.title('Distribución de la Cantidad de Eventos por Usuario')\n",
    "plt.xlabel('Cantidad de Eventos')\n",
    "plt.ylabel('Número de Usuarios')\n",
    "plt.show()\n"
   ]
  },
  {
   "cell_type": "code",
   "execution_count": 50,
   "metadata": {},
   "outputs": [
    {
     "data": {
      "text/html": [
       "<div>\n",
       "<style scoped>\n",
       "    .dataframe tbody tr th:only-of-type {\n",
       "        vertical-align: middle;\n",
       "    }\n",
       "\n",
       "    .dataframe tbody tr th {\n",
       "        vertical-align: top;\n",
       "    }\n",
       "\n",
       "    .dataframe thead th {\n",
       "        text-align: right;\n",
       "    }\n",
       "</style>\n",
       "<table border=\"1\" class=\"dataframe\">\n",
       "  <thead>\n",
       "    <tr style=\"text-align: right;\">\n",
       "      <th></th>\n",
       "      <th>event_name</th>\n",
       "      <th>user_id</th>\n",
       "      <th>event_date</th>\n",
       "      <th>group</th>\n",
       "      <th>date</th>\n",
       "      <th>hour</th>\n",
       "    </tr>\n",
       "  </thead>\n",
       "  <tbody>\n",
       "    <tr>\n",
       "      <th>0</th>\n",
       "      <td>MainScreenAppear</td>\n",
       "      <td>4575588528974610257</td>\n",
       "      <td>2019-07-25 04:43:36</td>\n",
       "      <td>246</td>\n",
       "      <td>2019-07-25</td>\n",
       "      <td>04:43:36</td>\n",
       "    </tr>\n",
       "    <tr>\n",
       "      <th>1</th>\n",
       "      <td>MainScreenAppear</td>\n",
       "      <td>7416695313311560658</td>\n",
       "      <td>2019-07-25 11:11:42</td>\n",
       "      <td>246</td>\n",
       "      <td>2019-07-25</td>\n",
       "      <td>11:11:42</td>\n",
       "    </tr>\n",
       "    <tr>\n",
       "      <th>2</th>\n",
       "      <td>PaymentScreenSuccessful</td>\n",
       "      <td>3518123091307005509</td>\n",
       "      <td>2019-07-25 11:28:47</td>\n",
       "      <td>248</td>\n",
       "      <td>2019-07-25</td>\n",
       "      <td>11:28:47</td>\n",
       "    </tr>\n",
       "    <tr>\n",
       "      <th>3</th>\n",
       "      <td>CartScreenAppear</td>\n",
       "      <td>3518123091307005509</td>\n",
       "      <td>2019-07-25 11:28:47</td>\n",
       "      <td>248</td>\n",
       "      <td>2019-07-25</td>\n",
       "      <td>11:28:47</td>\n",
       "    </tr>\n",
       "    <tr>\n",
       "      <th>4</th>\n",
       "      <td>PaymentScreenSuccessful</td>\n",
       "      <td>6217807653094995999</td>\n",
       "      <td>2019-07-25 11:48:42</td>\n",
       "      <td>248</td>\n",
       "      <td>2019-07-25</td>\n",
       "      <td>11:48:42</td>\n",
       "    </tr>\n",
       "    <tr>\n",
       "      <th>...</th>\n",
       "      <td>...</td>\n",
       "      <td>...</td>\n",
       "      <td>...</td>\n",
       "      <td>...</td>\n",
       "      <td>...</td>\n",
       "      <td>...</td>\n",
       "    </tr>\n",
       "    <tr>\n",
       "      <th>244121</th>\n",
       "      <td>MainScreenAppear</td>\n",
       "      <td>4599628364049201812</td>\n",
       "      <td>2019-08-07 21:12:25</td>\n",
       "      <td>247</td>\n",
       "      <td>2019-08-07</td>\n",
       "      <td>21:12:25</td>\n",
       "    </tr>\n",
       "    <tr>\n",
       "      <th>244122</th>\n",
       "      <td>MainScreenAppear</td>\n",
       "      <td>5849806612437486590</td>\n",
       "      <td>2019-08-07 21:13:59</td>\n",
       "      <td>246</td>\n",
       "      <td>2019-08-07</td>\n",
       "      <td>21:13:59</td>\n",
       "    </tr>\n",
       "    <tr>\n",
       "      <th>244123</th>\n",
       "      <td>MainScreenAppear</td>\n",
       "      <td>5746969938801999050</td>\n",
       "      <td>2019-08-07 21:14:43</td>\n",
       "      <td>246</td>\n",
       "      <td>2019-08-07</td>\n",
       "      <td>21:14:43</td>\n",
       "    </tr>\n",
       "    <tr>\n",
       "      <th>244124</th>\n",
       "      <td>MainScreenAppear</td>\n",
       "      <td>5746969938801999050</td>\n",
       "      <td>2019-08-07 21:14:58</td>\n",
       "      <td>246</td>\n",
       "      <td>2019-08-07</td>\n",
       "      <td>21:14:58</td>\n",
       "    </tr>\n",
       "    <tr>\n",
       "      <th>244125</th>\n",
       "      <td>OffersScreenAppear</td>\n",
       "      <td>5746969938801999050</td>\n",
       "      <td>2019-08-07 21:15:17</td>\n",
       "      <td>246</td>\n",
       "      <td>2019-08-07</td>\n",
       "      <td>21:15:17</td>\n",
       "    </tr>\n",
       "  </tbody>\n",
       "</table>\n",
       "<p>243713 rows × 6 columns</p>\n",
       "</div>"
      ],
      "text/plain": [
       "                     event_name              user_id          event_date  \\\n",
       "0              MainScreenAppear  4575588528974610257 2019-07-25 04:43:36   \n",
       "1              MainScreenAppear  7416695313311560658 2019-07-25 11:11:42   \n",
       "2       PaymentScreenSuccessful  3518123091307005509 2019-07-25 11:28:47   \n",
       "3              CartScreenAppear  3518123091307005509 2019-07-25 11:28:47   \n",
       "4       PaymentScreenSuccessful  6217807653094995999 2019-07-25 11:48:42   \n",
       "...                         ...                  ...                 ...   \n",
       "244121         MainScreenAppear  4599628364049201812 2019-08-07 21:12:25   \n",
       "244122         MainScreenAppear  5849806612437486590 2019-08-07 21:13:59   \n",
       "244123         MainScreenAppear  5746969938801999050 2019-08-07 21:14:43   \n",
       "244124         MainScreenAppear  5746969938801999050 2019-08-07 21:14:58   \n",
       "244125       OffersScreenAppear  5746969938801999050 2019-08-07 21:15:17   \n",
       "\n",
       "        group        date      hour  \n",
       "0         246  2019-07-25  04:43:36  \n",
       "1         246  2019-07-25  11:11:42  \n",
       "2         248  2019-07-25  11:28:47  \n",
       "3         248  2019-07-25  11:28:47  \n",
       "4         248  2019-07-25  11:48:42  \n",
       "...       ...         ...       ...  \n",
       "244121    247  2019-08-07  21:12:25  \n",
       "244122    246  2019-08-07  21:13:59  \n",
       "244123    246  2019-08-07  21:14:43  \n",
       "244124    246  2019-08-07  21:14:58  \n",
       "244125    246  2019-08-07  21:15:17  \n",
       "\n",
       "[243713 rows x 6 columns]"
      ]
     },
     "execution_count": 50,
     "metadata": {},
     "output_type": "execute_result"
    }
   ],
   "source": [
    "data"
   ]
  },
  {
   "cell_type": "code",
   "execution_count": 51,
   "metadata": {},
   "outputs": [
    {
     "data": {
      "text/html": [
       "<div>\n",
       "<style scoped>\n",
       "    .dataframe tbody tr th:only-of-type {\n",
       "        vertical-align: middle;\n",
       "    }\n",
       "\n",
       "    .dataframe tbody tr th {\n",
       "        vertical-align: top;\n",
       "    }\n",
       "\n",
       "    .dataframe thead th {\n",
       "        text-align: right;\n",
       "    }\n",
       "</style>\n",
       "<table border=\"1\" class=\"dataframe\">\n",
       "  <thead>\n",
       "    <tr style=\"text-align: right;\">\n",
       "      <th></th>\n",
       "      <th>user_id</th>\n",
       "      <th>event_date</th>\n",
       "      <th>group</th>\n",
       "    </tr>\n",
       "  </thead>\n",
       "  <tbody>\n",
       "    <tr>\n",
       "      <th>count</th>\n",
       "      <td>2.437130e+05</td>\n",
       "      <td>243713</td>\n",
       "      <td>243713.000000</td>\n",
       "    </tr>\n",
       "    <tr>\n",
       "      <th>mean</th>\n",
       "      <td>4.627963e+18</td>\n",
       "      <td>2019-08-04 10:19:17.987665920</td>\n",
       "      <td>247.022161</td>\n",
       "    </tr>\n",
       "    <tr>\n",
       "      <th>min</th>\n",
       "      <td>6.888747e+15</td>\n",
       "      <td>2019-07-25 04:43:36</td>\n",
       "      <td>246.000000</td>\n",
       "    </tr>\n",
       "    <tr>\n",
       "      <th>25%</th>\n",
       "      <td>2.372212e+18</td>\n",
       "      <td>2019-08-02 14:36:45</td>\n",
       "      <td>246.000000</td>\n",
       "    </tr>\n",
       "    <tr>\n",
       "      <th>50%</th>\n",
       "      <td>4.623192e+18</td>\n",
       "      <td>2019-08-04 11:51:00</td>\n",
       "      <td>247.000000</td>\n",
       "    </tr>\n",
       "    <tr>\n",
       "      <th>75%</th>\n",
       "      <td>6.932517e+18</td>\n",
       "      <td>2019-08-06 06:56:24</td>\n",
       "      <td>248.000000</td>\n",
       "    </tr>\n",
       "    <tr>\n",
       "      <th>max</th>\n",
       "      <td>9.222603e+18</td>\n",
       "      <td>2019-08-07 21:15:17</td>\n",
       "      <td>248.000000</td>\n",
       "    </tr>\n",
       "    <tr>\n",
       "      <th>std</th>\n",
       "      <td>2.642723e+18</td>\n",
       "      <td>NaN</td>\n",
       "      <td>0.824420</td>\n",
       "    </tr>\n",
       "  </tbody>\n",
       "</table>\n",
       "</div>"
      ],
      "text/plain": [
       "            user_id                     event_date          group\n",
       "count  2.437130e+05                         243713  243713.000000\n",
       "mean   4.627963e+18  2019-08-04 10:19:17.987665920     247.022161\n",
       "min    6.888747e+15            2019-07-25 04:43:36     246.000000\n",
       "25%    2.372212e+18            2019-08-02 14:36:45     246.000000\n",
       "50%    4.623192e+18            2019-08-04 11:51:00     247.000000\n",
       "75%    6.932517e+18            2019-08-06 06:56:24     248.000000\n",
       "max    9.222603e+18            2019-08-07 21:15:17     248.000000\n",
       "std    2.642723e+18                            NaN       0.824420"
      ]
     },
     "execution_count": 51,
     "metadata": {},
     "output_type": "execute_result"
    }
   ],
   "source": [
    "#periodo que cubren los datos\n",
    "\n",
    "data.describe()"
   ]
  },
  {
   "cell_type": "markdown",
   "metadata": {},
   "source": [
    "Los registros van desde el 25 de Julio de 2019 hasta el 7 de Agosto de 2019"
   ]
  },
  {
   "cell_type": "code",
   "execution_count": 52,
   "metadata": {},
   "outputs": [
    {
     "name": "stderr",
     "output_type": "stream",
     "text": [
      "c:\\Users\\Cata Rivera\\anaconda3\\Lib\\site-packages\\seaborn\\_oldcore.py:1119: FutureWarning:\n",
      "\n",
      "use_inf_as_na option is deprecated and will be removed in a future version. Convert inf values to NaN before operating instead.\n",
      "\n"
     ]
    },
    {
     "data": {
      "image/png": "[encoded data removed]",
      "text/plain": [
       "<Figure size 1000x600 with 1 Axes>"
      ]
     },
     "metadata": {},
     "output_type": "display_data"
    }
   ],
   "source": [
    "## Histograma por fecha\n",
    "plt.figure(figsize=(10, 6))\n",
    "sns.histplot(data['date'], bins=50, kde=False)\n",
    "plt.title('Distribución de Eventos por Fecha')\n",
    "plt.xlabel('Fecha')\n",
    "plt.ylabel('Cantidad de Eventos')\n",
    "plt.xticks(rotation=45)\n",
    "plt.show()\n"
   ]
  },
  {
   "cell_type": "code",
   "execution_count": 53,
   "metadata": {},
   "outputs": [
    {
     "name": "stderr",
     "output_type": "stream",
     "text": [
      "c:\\Users\\Cata Rivera\\anaconda3\\Lib\\site-packages\\seaborn\\_oldcore.py:1119: FutureWarning:\n",
      "\n",
      "use_inf_as_na option is deprecated and will be removed in a future version. Convert inf values to NaN before operating instead.\n",
      "\n"
     ]
    },
    {
     "data": {
      "image/png": "[encoded data removed]",
      "text/plain": [
       "<Figure size 1000x600 with 1 Axes>"
      ]
     },
     "metadata": {},
     "output_type": "display_data"
    }
   ],
   "source": [
    "# Histograma por hora\n",
    "plt.figure(figsize=(10, 6))\n",
    "sns.histplot(data['event_date'].dt.hour, bins=24, kde=False)\n",
    "plt.title('Distribución de Eventos por Hora')\n",
    "plt.xlabel('Hora')\n",
    "plt.ylabel('Cantidad de Eventos')\n",
    "plt.xticks(range(24))\n",
    "plt.show()"
   ]
  },
  {
   "cell_type": "markdown",
   "metadata": {},
   "source": [
    "Se puede observar a través de los gráficos que la mayor cantidad de eventos se produce a las 14, 15 y 16 horas probablemente coincidentes con los horarios de almuerzo de los usuarios. Además, los datos de los eventos en la plataforma muestran mayor actividad y se estabilizan el día 01 de agosto de 2019. Por lo que los siguientes analisis se realizaran a partir de esta fecha. \n"
   ]
  },
  {
   "cell_type": "code",
   "execution_count": 54,
   "metadata": {},
   "outputs": [
    {
     "name": "stdout",
     "output_type": "stream",
     "text": [
      "<class 'pandas.core.frame.DataFrame'>\n",
      "Index: 243713 entries, 0 to 244125\n",
      "Data columns (total 6 columns):\n",
      " #   Column      Non-Null Count   Dtype         \n",
      "---  ------      --------------   -----         \n",
      " 0   event_name  243713 non-null  object        \n",
      " 1   user_id     243713 non-null  int64         \n",
      " 2   event_date  243713 non-null  datetime64[ns]\n",
      " 3   group       243713 non-null  int64         \n",
      " 4   date        243713 non-null  object        \n",
      " 5   hour        243713 non-null  object        \n",
      "dtypes: datetime64[ns](1), int64(2), object(3)\n",
      "memory usage: 13.0+ MB\n"
     ]
    }
   ],
   "source": [
    "data.info()"
   ]
  },
  {
   "cell_type": "code",
   "execution_count": 55,
   "metadata": {},
   "outputs": [
    {
     "name": "stdout",
     "output_type": "stream",
     "text": [
      "7\n",
      "<class 'pandas.core.frame.DataFrame'>\n",
      "Index: 240887 entries, 2828 to 244125\n",
      "Data columns (total 6 columns):\n",
      " #   Column      Non-Null Count   Dtype         \n",
      "---  ------      --------------   -----         \n",
      " 0   event_name  240887 non-null  object        \n",
      " 1   user_id     240887 non-null  int64         \n",
      " 2   event_date  240887 non-null  datetime64[ns]\n",
      " 3   group       240887 non-null  int64         \n",
      " 4   date        240887 non-null  object        \n",
      " 5   hour        240887 non-null  object        \n",
      "dtypes: datetime64[ns](1), int64(2), object(3)\n",
      "memory usage: 12.9+ MB\n",
      "---------------------\n",
      "numero de eventos perdidos: 2826\n",
      "1.159560630741897\n",
      "numero de usuarios perdidos: 17\n"
     ]
    }
   ],
   "source": [
    "#base de datos a partir del 2019-08-01\n",
    "new_data = data[data['event_date'] >= '2019-08-01']\n",
    "print(new_data['date'].nunique())\n",
    "new_data.info()\n",
    "print('---------------------')\n",
    "print('numero de eventos perdidos:', data.shape[0]-new_data.shape[0])\n",
    "print(((data.shape[0]-new_data.shape[0])/data.shape[0])*100)\n",
    "print('numero de usuarios perdidos:', data['user_id'].nunique()-new_data['user_id'].nunique())\n"
   ]
  },
  {
   "cell_type": "code",
   "execution_count": 56,
   "metadata": {},
   "outputs": [
    {
     "data": {
      "text/plain": [
       "group\n",
       "248    84563\n",
       "246    79302\n",
       "247    77022\n",
       "Name: count, dtype: int64"
      ]
     },
     "execution_count": 56,
     "metadata": {},
     "output_type": "execute_result"
    }
   ],
   "source": [
    "#comprobar grupos en la nueva base de datos\n",
    "new_data['group'].value_counts()"
   ]
  },
  {
   "cell_type": "markdown",
   "metadata": {},
   "source": [
    "La base de datos original posee 243713 datos de eventos, al filtrarla y dejar solo los días con más cantidad de eventos registrados se conservan 240887, de esta manera solo se han eliminado 2826 datos, un número bastante bajo que representa solo un 1,15% de los datos totales. Además, los datos eliminados corresponden solamente a 17 usuarios.\n",
    "\n",
    "Por último, dentro de la nueva base de datos se cuenta con un número más o menos similar de los 3 grupos de estudio. \n"
   ]
  },
  {
   "cell_type": "markdown",
   "metadata": {},
   "source": [
    "---"
   ]
  },
  {
   "cell_type": "markdown",
   "metadata": {},
   "source": [
    "ETAPA 3: ESTUDIO DEL EMBUDO DE EVENTOS \n",
    "\n",
    "* Observa qué eventos hay en los registros y su frecuencia de suceso. Ordénalos por frecuencia.\n",
    "* Encuentra la cantidad de usuarios y usuarias que realizaron cada una de estas acciones. Ordena los eventos por el número de usuarios y usuarias. Calcula la proporción de usuarios y usuarias que realizaron la acción al menos una vez.* \n",
    "* ¿En qué orden crees que ocurrieron las acciones? ¿Todas son parte de una sola secuencia? No es necesario tenerlas en cuenta al calcular el embudo.\n",
    "* Utiliza el embudo de eventos para encontrar la proporción de usuarios y usuarias que pasan de una etapa a la siguiente. (Por ejemplo, para la secuencia de eventos A → B → C, calcula la proporción de usuarios en la etapa B a la cantidad de usuarios en la etapa A y la proporción de usuarios en la etapa C a la cantidad en la etapa B).\n",
    "* ¿En qué etapa pierdes más usuarios y usuarias?\n",
    "* ¿Qué porcentaje de usuarios y usuarias hace todo el viaje desde su primer evento hasta el pago?\n"
   ]
  },
  {
   "cell_type": "code",
   "execution_count": 57,
   "metadata": {},
   "outputs": [
    {
     "name": "stdout",
     "output_type": "stream",
     "text": [
      "                event_name   count\n",
      "0         MainScreenAppear  117328\n",
      "1       OffersScreenAppear   46333\n",
      "2         CartScreenAppear   42303\n",
      "3  PaymentScreenSuccessful   33918\n",
      "4                 Tutorial    1005\n"
     ]
    },
    {
     "data": {
      "image/png": "[encoded data removed]",
      "text/plain": [
       "<Figure size 1000x600 with 1 Axes>"
      ]
     },
     "metadata": {},
     "output_type": "display_data"
    }
   ],
   "source": [
    "#frecuencia de los eventos \n",
    "events_frequency = new_data['event_name'].value_counts().reset_index()\n",
    "print(events_frequency)\n",
    "\n",
    "#graficar frecuencia de eventos\n",
    "plt.figure(figsize=(10, 6))\n",
    "sns.barplot(data=events_frequency, x='event_name', y='count', palette='plasma')\n",
    "plt.title('Cantidad de Cada Evento')\n",
    "plt.xlabel('Evento')\n",
    "plt.ylabel('Cantidad')\n",
    "plt.xticks(rotation=45)\n",
    "plt.show()"
   ]
  },
  {
   "cell_type": "code",
   "execution_count": 58,
   "metadata": {},
   "outputs": [
    {
     "name": "stdout",
     "output_type": "stream",
     "text": [
      "7551\n"
     ]
    },
    {
     "data": {
      "text/html": [
       "<div>\n",
       "<style scoped>\n",
       "    .dataframe tbody tr th:only-of-type {\n",
       "        vertical-align: middle;\n",
       "    }\n",
       "\n",
       "    .dataframe tbody tr th {\n",
       "        vertical-align: top;\n",
       "    }\n",
       "\n",
       "    .dataframe thead th {\n",
       "        text-align: right;\n",
       "    }\n",
       "</style>\n",
       "<table border=\"1\" class=\"dataframe\">\n",
       "  <thead>\n",
       "    <tr style=\"text-align: right;\">\n",
       "      <th></th>\n",
       "      <th>event_name</th>\n",
       "      <th>user_count</th>\n",
       "      <th>proportion</th>\n",
       "    </tr>\n",
       "  </thead>\n",
       "  <tbody>\n",
       "    <tr>\n",
       "      <th>4</th>\n",
       "      <td>Tutorial</td>\n",
       "      <td>840</td>\n",
       "      <td>0.111244</td>\n",
       "    </tr>\n",
       "    <tr>\n",
       "      <th>3</th>\n",
       "      <td>PaymentScreenSuccessful</td>\n",
       "      <td>3539</td>\n",
       "      <td>0.468680</td>\n",
       "    </tr>\n",
       "    <tr>\n",
       "      <th>0</th>\n",
       "      <td>CartScreenAppear</td>\n",
       "      <td>3734</td>\n",
       "      <td>0.494504</td>\n",
       "    </tr>\n",
       "    <tr>\n",
       "      <th>2</th>\n",
       "      <td>OffersScreenAppear</td>\n",
       "      <td>4593</td>\n",
       "      <td>0.608264</td>\n",
       "    </tr>\n",
       "    <tr>\n",
       "      <th>1</th>\n",
       "      <td>MainScreenAppear</td>\n",
       "      <td>7419</td>\n",
       "      <td>0.982519</td>\n",
       "    </tr>\n",
       "  </tbody>\n",
       "</table>\n",
       "</div>"
      ],
      "text/plain": [
       "                event_name  user_count  proportion\n",
       "4                 Tutorial         840    0.111244\n",
       "3  PaymentScreenSuccessful        3539    0.468680\n",
       "0         CartScreenAppear        3734    0.494504\n",
       "2       OffersScreenAppear        4593    0.608264\n",
       "1         MainScreenAppear        7419    0.982519"
      ]
     },
     "execution_count": 58,
     "metadata": {},
     "output_type": "execute_result"
    }
   ],
   "source": [
    "#Usuarios que realizaron cada accion al menos una vez\n",
    "user_counts = new_data.groupby('event_name')['user_id'].nunique().reset_index()\n",
    "user_counts.columns = ['event_name', 'user_count']\n",
    "\n",
    "# Ordenar los eventos por el número de usuarios\n",
    "user_counts = user_counts.sort_values(by='user_count')\n",
    "\n",
    "# Total de usuarios únicos\n",
    "total_users = data['user_id'].nunique()\n",
    "\n",
    "# Calcular la proporción de usuarios que realizaron una acción al menos una vez\n",
    "user_counts['proportion'] = (user_counts['user_count'] / total_users)\n",
    "\n",
    "print(total_users)\n",
    "user_counts"
   ]
  },
  {
   "cell_type": "code",
   "execution_count": 59,
   "metadata": {},
   "outputs": [
    {
     "data": {
      "application/vnd.plotly.v1+json": {
       "config": {
        "plotlyServerURL": "https://plot.ly"
       },
       "data": [
        {
         "hovertemplate": "event_name=%{y}<br>proportion=%{x}<extra></extra>",
         "legendgroup": "Tutorial",
         "marker": {
          "color": "#636efa"
         },
         "name": "Tutorial",
         "orientation": "h",
         "showlegend": true,
         "type": "funnel",
         "x": [
          0.11124354390147001
         ],
         "xaxis": "x",
         "y": [
          "Tutorial"
         ],
         "yaxis": "y"
        },
        {
         "hovertemplate": "event_name=%{y}<br>proportion=%{x}<extra></extra>",
         "legendgroup": "PaymentScreenSuccessful",
         "marker": {
          "color": "#EF553B"
         },
         "name": "PaymentScreenSuccessful",
         "orientation": "h",
         "showlegend": true,
         "type": "funnel",
         "x": [
          0.46867964508012183
         ],
         "xaxis": "x",
         "y": [
          "PaymentScreenSuccessful"
         ],
         "yaxis": "y"
        },
        {
         "hovertemplate": "event_name=%{y}<br>proportion=%{x}<extra></extra>",
         "legendgroup": "CartScreenAppear",
         "marker": {
          "color": "#00cc96"
         },
         "name": "CartScreenAppear",
         "orientation": "h",
         "showlegend": true,
         "type": "funnel",
         "x": [
          0.49450403920010594
         ],
         "xaxis": "x",
         "y": [
          "CartScreenAppear"
         ],
         "yaxis": "y"
        },
        {
         "hovertemplate": "event_name=%{y}<br>proportion=%{x}<extra></extra>",
         "legendgroup": "OffersScreenAppear",
         "marker": {
          "color": "#ab63fa"
         },
         "name": "OffersScreenAppear",
         "orientation": "h",
         "showlegend": true,
         "type": "funnel",
         "x": [
          0.6082638061183949
         ],
         "xaxis": "x",
         "y": [
          "OffersScreenAppear"
         ],
         "yaxis": "y"
        },
        {
         "hovertemplate": "event_name=%{y}<br>proportion=%{x}<extra></extra>",
         "legendgroup": "MainScreenAppear",
         "marker": {
          "color": "#FFA15A"
         },
         "name": "MainScreenAppear",
         "orientation": "h",
         "showlegend": true,
         "type": "funnel",
         "x": [
          0.9825188716726262
         ],
         "xaxis": "x",
         "y": [
          "MainScreenAppear"
         ],
         "yaxis": "y"
        }
       ],
       "layout": {
        "legend": {
         "title": {
          "text": "event_name"
         },
         "tracegroupgap": 0
        },
        "template": {
         "data": {
          "bar": [
           {
            "error_x": {
             "color": "#2a3f5f"
            },
            "error_y": {
             "color": "#2a3f5f"
            },
            "marker": {
             "line": {
              "color": "#E5ECF6",
              "width": 0.5
             },
             "pattern": {
              "fillmode": "overlay",
              "size": 10,
              "solidity": 0.2
             }
            },
            "type": "bar"
           }
          ],
          "barpolar": [
           {
            "marker": {
             "line": {
              "color": "#E5ECF6",
              "width": 0.5
             },
             "pattern": {
              "fillmode": "overlay",
              "size": 10,
              "solidity": 0.2
             }
            },
            "type": "barpolar"
           }
          ],
          "carpet": [
           {
            "aaxis": {
             "endlinecolor": "#2a3f5f",
             "gridcolor": "white",
             "linecolor": "white",
             "minorgridcolor": "white",
             "startlinecolor": "#2a3f5f"
            },
            "baxis": {
             "endlinecolor": "#2a3f5f",
             "gridcolor": "white",
             "linecolor": "white",
             "minorgridcolor": "white",
             "startlinecolor": "#2a3f5f"
            },
            "type": "carpet"
           }
          ],
          "choropleth": [
           {
            "colorbar": {
             "outlinewidth": 0,
             "ticks": ""
            },
            "type": "choropleth"
           }
          ],
          "contour": [
           {
            "colorbar": {
             "outlinewidth": 0,
             "ticks": ""
            },
            "colorscale": [
             [
              0,
              "#0d0887"
             ],
             [
              0.1111111111111111,
              "#46039f"
             ],
             [
              0.2222222222222222,
              "#7201a8"
             ],
             [
              0.3333333333333333,
              "#9c179e"
             ],
             [
              0.4444444444444444,
              "#bd3786"
             ],
             [
              0.5555555555555556,
              "#d8576b"
             ],
             [
              0.6666666666666666,
              "#ed7953"
             ],
             [
              0.7777777777777778,
              "#fb9f3a"
             ],
             [
              0.8888888888888888,
              "#fdca26"
             ],
             [
              1,
              "#f0f921"
             ]
            ],
            "type": "contour"
           }
          ],
          "contourcarpet": [
           {
            "colorbar": {
             "outlinewidth": 0,
             "ticks": ""
            },
            "type": "contourcarpet"
           }
          ],
          "heatmap": [
           {
            "colorbar": {
             "outlinewidth": 0,
             "ticks": ""
            },
            "colorscale": [
             [
              0,
              "#0d0887"
             ],
             [
              0.1111111111111111,
              "#46039f"
             ],
             [
              0.2222222222222222,
              "#7201a8"
             ],
             [
              0.3333333333333333,
              "#9c179e"
             ],
             [
              0.4444444444444444,
              "#bd3786"
             ],
             [
              0.5555555555555556,
              "#d8576b"
             ],
             [
              0.6666666666666666,
              "#ed7953"
             ],
             [
              0.7777777777777778,
              "#fb9f3a"
             ],
             [
              0.8888888888888888,
              "#fdca26"
             ],
             [
              1,
              "#f0f921"
             ]
            ],
            "type": "heatmap"
           }
          ],
          "heatmapgl": [
           {
            "colorbar": {
             "outlinewidth": 0,
             "ticks": ""
            },
            "colorscale": [
             [
              0,
              "#0d0887"
             ],
             [
              0.1111111111111111,
              "#46039f"
             ],
             [
              0.2222222222222222,
              "#7201a8"
             ],
             [
              0.3333333333333333,
              "#9c179e"
             ],
             [
              0.4444444444444444,
              "#bd3786"
             ],
             [
              0.5555555555555556,
              "#d8576b"
             ],
             [
              0.6666666666666666,
              "#ed7953"
             ],
             [
              0.7777777777777778,
              "#fb9f3a"
             ],
             [
              0.8888888888888888,
              "#fdca26"
             ],
             [
              1,
              "#f0f921"
             ]
            ],
            "type": "heatmapgl"
           }
          ],
          "histogram": [
           {
            "marker": {
             "pattern": {
              "fillmode": "overlay",
              "size": 10,
              "solidity": 0.2
             }
            },
            "type": "histogram"
           }
          ],
          "histogram2d": [
           {
            "colorbar": {
             "outlinewidth": 0,
             "ticks": ""
            },
            "colorscale": [
             [
              0,
              "#0d0887"
             ],
             [
              0.1111111111111111,
              "#46039f"
             ],
             [
              0.2222222222222222,
              "#7201a8"
             ],
             [
              0.3333333333333333,
              "#9c179e"
             ],
             [
              0.4444444444444444,
              "#bd3786"
             ],
             [
              0.5555555555555556,
              "#d8576b"
             ],
             [
              0.6666666666666666,
              "#ed7953"
             ],
             [
              0.7777777777777778,
              "#fb9f3a"
             ],
             [
              0.8888888888888888,
              "#fdca26"
             ],
             [
              1,
              "#f0f921"
             ]
            ],
            "type": "histogram2d"
           }
          ],
          "histogram2dcontour": [
           {
            "colorbar": {
             "outlinewidth": 0,
             "ticks": ""
            },
            "colorscale": [
             [
              0,
              "#0d0887"
             ],
             [
              0.1111111111111111,
              "#46039f"
             ],
             [
              0.2222222222222222,
              "#7201a8"
             ],
             [
              0.3333333333333333,
              "#9c179e"
             ],
             [
              0.4444444444444444,
              "#bd3786"
             ],
             [
              0.5555555555555556,
              "#d8576b"
             ],
             [
              0.6666666666666666,
              "#ed7953"
             ],
             [
              0.7777777777777778,
              "#fb9f3a"
             ],
             [
              0.8888888888888888,
              "#fdca26"
             ],
             [
              1,
              "#f0f921"
             ]
            ],
            "type": "histogram2dcontour"
           }
          ],
          "mesh3d": [
           {
            "colorbar": {
             "outlinewidth": 0,
             "ticks": ""
            },
            "type": "mesh3d"
           }
          ],
          "parcoords": [
           {
            "line": {
             "colorbar": {
              "outlinewidth": 0,
              "ticks": ""
             }
            },
            "type": "parcoords"
           }
          ],
          "pie": [
           {
            "automargin": true,
            "type": "pie"
           }
          ],
          "scatter": [
           {
            "fillpattern": {
             "fillmode": "overlay",
             "size": 10,
             "solidity": 0.2
            },
            "type": "scatter"
           }
          ],
          "scatter3d": [
           {
            "line": {
             "colorbar": {
              "outlinewidth": 0,
              "ticks": ""
             }
            },
            "marker": {
             "colorbar": {
              "outlinewidth": 0,
              "ticks": ""
             }
            },
            "type": "scatter3d"
           }
          ],
          "scattercarpet": [
           {
            "marker": {
             "colorbar": {
              "outlinewidth": 0,
              "ticks": ""
             }
            },
            "type": "scattercarpet"
           }
          ],
          "scattergeo": [
           {
            "marker": {
             "colorbar": {
              "outlinewidth": 0,
              "ticks": ""
             }
            },
            "type": "scattergeo"
           }
          ],
          "scattergl": [
           {
            "marker": {
             "colorbar": {
              "outlinewidth": 0,
              "ticks": ""
             }
            },
            "type": "scattergl"
           }
          ],
          "scattermapbox": [
           {
            "marker": {
             "colorbar": {
              "outlinewidth": 0,
              "ticks": ""
             }
            },
            "type": "scattermapbox"
           }
          ],
          "scatterpolar": [
           {
            "marker": {
             "colorbar": {
              "outlinewidth": 0,
              "ticks": ""
             }
            },
            "type": "scatterpolar"
           }
          ],
          "scatterpolargl": [
           {
            "marker": {
             "colorbar": {
              "outlinewidth": 0,
              "ticks": ""
             }
            },
            "type": "scatterpolargl"
           }
          ],
          "scatterternary": [
           {
            "marker": {
             "colorbar": {
              "outlinewidth": 0,
              "ticks": ""
             }
            },
            "type": "scatterternary"
           }
          ],
          "surface": [
           {
            "colorbar": {
             "outlinewidth": 0,
             "ticks": ""
            },
            "colorscale": [
             [
              0,
              "#0d0887"
             ],
             [
              0.1111111111111111,
              "#46039f"
             ],
             [
              0.2222222222222222,
              "#7201a8"
             ],
             [
              0.3333333333333333,
              "#9c179e"
             ],
             [
              0.4444444444444444,
              "#bd3786"
             ],
             [
              0.5555555555555556,
              "#d8576b"
             ],
             [
              0.6666666666666666,
              "#ed7953"
             ],
             [
              0.7777777777777778,
              "#fb9f3a"
             ],
             [
              0.8888888888888888,
              "#fdca26"
             ],
             [
              1,
              "#f0f921"
             ]
            ],
            "type": "surface"
           }
          ],
          "table": [
           {
            "cells": {
             "fill": {
              "color": "#EBF0F8"
             },
             "line": {
              "color": "white"
             }
            },
            "header": {
             "fill": {
              "color": "#C8D4E3"
             },
             "line": {
              "color": "white"
             }
            },
            "type": "table"
           }
          ]
         },
         "layout": {
          "annotationdefaults": {
           "arrowcolor": "#2a3f5f",
           "arrowhead": 0,
           "arrowwidth": 1
          },
          "autotypenumbers": "strict",
          "coloraxis": {
           "colorbar": {
            "outlinewidth": 0,
            "ticks": ""
           }
          },
          "colorscale": {
           "diverging": [
            [
             0,
             "#8e0152"
            ],
            [
             0.1,
             "#c51b7d"
            ],
            [
             0.2,
             "#de77ae"
            ],
            [
             0.3,
             "#f1b6da"
            ],
            [
             0.4,
             "#fde0ef"
            ],
            [
             0.5,
             "#f7f7f7"
            ],
            [
             0.6,
             "#e6f5d0"
            ],
            [
             0.7,
             "#b8e186"
            ],
            [
             0.8,
             "#7fbc41"
            ],
            [
             0.9,
             "#4d9221"
            ],
            [
             1,
             "#276419"
            ]
           ],
           "sequential": [
            [
             0,
             "#0d0887"
            ],
            [
             0.1111111111111111,
             "#46039f"
            ],
            [
             0.2222222222222222,
             "#7201a8"
            ],
            [
             0.3333333333333333,
             "#9c179e"
            ],
            [
             0.4444444444444444,
             "#bd3786"
            ],
            [
             0.5555555555555556,
             "#d8576b"
            ],
            [
             0.6666666666666666,
             "#ed7953"
            ],
            [
             0.7777777777777778,
             "#fb9f3a"
            ],
            [
             0.8888888888888888,
             "#fdca26"
            ],
            [
             1,
             "#f0f921"
            ]
           ],
           "sequentialminus": [
            [
             0,
             "#0d0887"
            ],
            [
             0.1111111111111111,
             "#46039f"
            ],
            [
             0.2222222222222222,
             "#7201a8"
            ],
            [
             0.3333333333333333,
             "#9c179e"
            ],
            [
             0.4444444444444444,
             "#bd3786"
            ],
            [
             0.5555555555555556,
             "#d8576b"
            ],
            [
             0.6666666666666666,
             "#ed7953"
            ],
            [
             0.7777777777777778,
             "#fb9f3a"
            ],
            [
             0.8888888888888888,
             "#fdca26"
            ],
            [
             1,
             "#f0f921"
            ]
           ]
          },
          "colorway": [
           "#636efa",
           "#EF553B",
           "#00cc96",
           "#ab63fa",
           "#FFA15A",
           "#19d3f3",
           "#FF6692",
           "#B6E880",
           "#FF97FF",
           "#FECB52"
          ],
          "font": {
           "color": "#2a3f5f"
          },
          "geo": {
           "bgcolor": "white",
           "lakecolor": "white",
           "landcolor": "#E5ECF6",
           "showlakes": true,
           "showland": true,
           "subunitcolor": "white"
          },
          "hoverlabel": {
           "align": "left"
          },
          "hovermode": "closest",
          "mapbox": {
           "style": "light"
          },
          "paper_bgcolor": "white",
          "plot_bgcolor": "#E5ECF6",
          "polar": {
           "angularaxis": {
            "gridcolor": "white",
            "linecolor": "white",
            "ticks": ""
           },
           "bgcolor": "#E5ECF6",
           "radialaxis": {
            "gridcolor": "white",
            "linecolor": "white",
            "ticks": ""
           }
          },
          "scene": {
           "xaxis": {
            "backgroundcolor": "#E5ECF6",
            "gridcolor": "white",
            "gridwidth": 2,
            "linecolor": "white",
            "showbackground": true,
            "ticks": "",
            "zerolinecolor": "white"
           },
           "yaxis": {
            "backgroundcolor": "#E5ECF6",
            "gridcolor": "white",
            "gridwidth": 2,
            "linecolor": "white",
            "showbackground": true,
            "ticks": "",
            "zerolinecolor": "white"
           },
           "zaxis": {
            "backgroundcolor": "#E5ECF6",
            "gridcolor": "white",
            "gridwidth": 2,
            "linecolor": "white",
            "showbackground": true,
            "ticks": "",
            "zerolinecolor": "white"
           }
          },
          "shapedefaults": {
           "line": {
            "color": "#2a3f5f"
           }
          },
          "ternary": {
           "aaxis": {
            "gridcolor": "white",
            "linecolor": "white",
            "ticks": ""
           },
           "baxis": {
            "gridcolor": "white",
            "linecolor": "white",
            "ticks": ""
           },
           "bgcolor": "#E5ECF6",
           "caxis": {
            "gridcolor": "white",
            "linecolor": "white",
            "ticks": ""
           }
          },
          "title": {
           "x": 0.05
          },
          "xaxis": {
           "automargin": true,
           "gridcolor": "white",
           "linecolor": "white",
           "ticks": "",
           "title": {
            "standoff": 15
           },
           "zerolinecolor": "white",
           "zerolinewidth": 2
          },
          "yaxis": {
           "automargin": true,
           "gridcolor": "white",
           "linecolor": "white",
           "ticks": "",
           "title": {
            "standoff": 15
           },
           "zerolinecolor": "white",
           "zerolinewidth": 2
          }
         }
        },
        "title": {
         "text": "Porcentaje de Cada Evento segun el TOTAL de usuarios"
        },
        "xaxis": {
         "anchor": "y",
         "domain": [
          0,
          1
         ],
         "title": {
          "text": "proportion"
         }
        },
        "yaxis": {
         "anchor": "x",
         "categoryarray": [
          "MainScreenAppear",
          "OffersScreenAppear",
          "CartScreenAppear",
          "PaymentScreenSuccessful",
          "Tutorial"
         ],
         "categoryorder": "array",
         "domain": [
          0,
          1
         ],
         "title": {
          "text": "event_name"
         }
        }
       }
      }
     },
     "metadata": {},
     "output_type": "display_data"
    }
   ],
   "source": [
    "# Crear un gráfico de embudo para visualizar el porcentaje de cada evento Segun el TOTAL de usuarios que interactuan\n",
    "fig = px.funnel(user_counts, x='proportion', y='event_name', color='event_name', title='Porcentaje de Cada Evento segun el TOTAL de usuarios')\n",
    "fig.show()"
   ]
  },
  {
   "cell_type": "markdown",
   "metadata": {},
   "source": [
    "El 98% de todos los usuarios que interactuan con la app lograron entrar a la página principal, 60% de todos los usuarios llegan hasta la página de ofertas, el 49% de todos los usuarios abren la pagina del carrito de compras, 46% logran un pago exitoso y solo el 11% de todos los usuarios registrados en la app abren el tutorial. "
   ]
  },
  {
   "cell_type": "markdown",
   "metadata": {},
   "source": [
    "Dado los nombres de los eventos, un posible orden lógico de las acciones podría ser el siguiente:\n",
    "\n",
    "1. MainScreenAppearm = Abre pantalla principal\n",
    "2. OffersScreenAppear = Abre pagina de ofertas\n",
    "3. CartScreenAppear = Abre el carrito\n",
    "4. PaymentScreenSuccessful = Pago exitoso\n",
    "\n",
    "Tutorial* se decide dejar como un paso aparte, no influye directamente en los demás. \n",
    "\n",
    "Sin embargo, la secuencia puede variar según el comportamiento del usuario. No necesariamente todos los eventos forman parte de una sola secuencia lineal, especialmente el Tutorial, que podría ocurrir en cualquier momento.\n",
    "\n",
    "Para este caso práctico se tomará el siguiente orden lógico:\n",
    "\n",
    "1. Abre pantalla principal\n",
    "2. Abre pagina de ofertas\n",
    "3. Abre el carrito\n",
    "4. Pago exitoso"
   ]
  },
  {
   "cell_type": "code",
   "execution_count": 60,
   "metadata": {},
   "outputs": [
    {
     "data": {
      "text/html": [
       "<div>\n",
       "<style scoped>\n",
       "    .dataframe tbody tr th:only-of-type {\n",
       "        vertical-align: middle;\n",
       "    }\n",
       "\n",
       "    .dataframe tbody tr th {\n",
       "        vertical-align: top;\n",
       "    }\n",
       "\n",
       "    .dataframe thead th {\n",
       "        text-align: right;\n",
       "    }\n",
       "</style>\n",
       "<table border=\"1\" class=\"dataframe\">\n",
       "  <thead>\n",
       "    <tr style=\"text-align: right;\">\n",
       "      <th></th>\n",
       "      <th>event_name</th>\n",
       "      <th>user_count</th>\n",
       "      <th>proportion</th>\n",
       "      <th>next_stage_proportion</th>\n",
       "    </tr>\n",
       "  </thead>\n",
       "  <tbody>\n",
       "    <tr>\n",
       "      <th>1</th>\n",
       "      <td>MainScreenAppear</td>\n",
       "      <td>7419</td>\n",
       "      <td>0.982519</td>\n",
       "      <td>100.000000</td>\n",
       "    </tr>\n",
       "    <tr>\n",
       "      <th>2</th>\n",
       "      <td>OffersScreenAppear</td>\n",
       "      <td>4593</td>\n",
       "      <td>0.608264</td>\n",
       "      <td>61.908613</td>\n",
       "    </tr>\n",
       "    <tr>\n",
       "      <th>0</th>\n",
       "      <td>CartScreenAppear</td>\n",
       "      <td>3734</td>\n",
       "      <td>0.494504</td>\n",
       "      <td>81.297627</td>\n",
       "    </tr>\n",
       "    <tr>\n",
       "      <th>3</th>\n",
       "      <td>PaymentScreenSuccessful</td>\n",
       "      <td>3539</td>\n",
       "      <td>0.468680</td>\n",
       "      <td>94.777718</td>\n",
       "    </tr>\n",
       "    <tr>\n",
       "      <th>4</th>\n",
       "      <td>Tutorial</td>\n",
       "      <td>840</td>\n",
       "      <td>0.111244</td>\n",
       "      <td>23.735519</td>\n",
       "    </tr>\n",
       "  </tbody>\n",
       "</table>\n",
       "</div>"
      ],
      "text/plain": [
       "                event_name  user_count  proportion  next_stage_proportion\n",
       "1         MainScreenAppear        7419    0.982519             100.000000\n",
       "2       OffersScreenAppear        4593    0.608264              61.908613\n",
       "0         CartScreenAppear        3734    0.494504              81.297627\n",
       "3  PaymentScreenSuccessful        3539    0.468680              94.777718\n",
       "4                 Tutorial         840    0.111244              23.735519"
      ]
     },
     "execution_count": 60,
     "metadata": {},
     "output_type": "execute_result"
    }
   ],
   "source": [
    "#visualización como embudo de las proporciones de usuarios que avanzan de un evento a otro \n",
    "# Calcular la proporción de usuarios que pasan de una etapa a la siguiente\n",
    "# NO vamos a considerar \"tutorial\"\n",
    "# Ordenar los eventos por el número de usuarios\n",
    "user_counts = user_counts.sort_values(by='user_count', ascending=False)\n",
    "user_counts['next_stage_proportion'] = (user_counts['user_count']/user_counts['user_count'].shift(1))*100\n",
    "user_counts['next_stage_proportion'].fillna(100, inplace=True)\n",
    "user_counts"
   ]
  },
  {
   "cell_type": "markdown",
   "metadata": {},
   "source": [
    "El 61% de los usuarios que abre la pagina principal pasa a la pagina de ofertas; un 81% de aquellos que llegan hasta la pagina de ofertas llegan al carrito de compras; y de aquellos que llegan al carrito de compas el 94% realiza un pago exitoso. \n",
    "\n",
    "\n",
    "Sin considerar 'Tutorial', el evento 'Abrir pagina principal' es en el cual se pierden más usuarios, esto ya que solo un poco mas de la mitad de los usuarios que abre la pagina principal abre la pagina de ofertas. "
   ]
  },
  {
   "cell_type": "code",
   "execution_count": 61,
   "metadata": {},
   "outputs": [
    {
     "name": "stdout",
     "output_type": "stream",
     "text": [
      "Porcentaje de usuarios que completan todo el viaje desde el primer evento hasta el pago: 47.70%\n"
     ]
    }
   ],
   "source": [
    "#Porcentaje de usuarios que realiza el viaje completo desde la pagina principal hasta el pago exitoso. \n",
    "# \n",
    "total_users_start = user_counts.iloc[0]['user_count'] #7419\n",
    "total_users_end = user_counts.iloc[3]['user_count'] #3539\n",
    "\n",
    "journey_completion_percentage = (total_users_end / total_users_start) * 100\n",
    "\n",
    "print(f\"Porcentaje de usuarios que completan todo el viaje desde el primer evento hasta el pago: {journey_completion_percentage:.2f}%\")\n"
   ]
  },
  {
   "cell_type": "markdown",
   "metadata": {},
   "source": [
    "---\n",
    "\n",
    "ETAPA 4: ESTUDIAR LOS RESULTADOS DEL EXPERIMENTO\n",
    "* ¿Cuántos usuarios y usuarias hay en cada grupo?\n",
    "* Tenemos dos grupos de control en el test A/A, donde comprobamos nuestros mecanismos y cálculos. Observa si hay una diferencia estadísticamente significativa entre las muestras 246 y 247.\n",
    "* Selecciona el evento más popular. En cada uno de los grupos de control, encuentra la cantidad de usuarios y usuarias que realizaron esta acción. Encuentra su proporción. Comprueba si la diferencia entre los grupos es estadísticamente significativa. Repite el procedimiento para todos los demás eventos (ahorrarás tiempo si creas una función especial para esta prueba). ¿Puedes confirmar que los grupos se dividieron correctamente?\n",
    "* Haz lo mismo para el grupo con fuentes alteradas. Compara los resultados con los de cada uno de los grupos de control para cada evento de forma aislada. Compara los resultados con los resultados combinados de los grupos de control. ¿Qué conclusiones puedes sacar del experimento?\n",
    "* ¿Qué nivel de significación has establecido para probar las hipótesis estadísticas mencionadas anteriormente? Calcula cuántas pruebas de hipótesis estadísticas has realizado. Con un nivel de significancia estadística de 0.1, uno de cada 10 resultados podría ser falso. ¿Cuál debería ser el nivel de significación? Si deseas cambiarlo, vuelve a ejecutar los pasos anteriores y comprueba tus conclusiones.\n"
   ]
  },
  {
   "cell_type": "code",
   "execution_count": 62,
   "metadata": {},
   "outputs": [
    {
     "data": {
      "text/html": [
       "<div>\n",
       "<style scoped>\n",
       "    .dataframe tbody tr th:only-of-type {\n",
       "        vertical-align: middle;\n",
       "    }\n",
       "\n",
       "    .dataframe tbody tr th {\n",
       "        vertical-align: top;\n",
       "    }\n",
       "\n",
       "    .dataframe thead th {\n",
       "        text-align: right;\n",
       "    }\n",
       "</style>\n",
       "<table border=\"1\" class=\"dataframe\">\n",
       "  <thead>\n",
       "    <tr style=\"text-align: right;\">\n",
       "      <th></th>\n",
       "      <th>event_name</th>\n",
       "      <th>user_id</th>\n",
       "      <th>event_date</th>\n",
       "      <th>group</th>\n",
       "      <th>date</th>\n",
       "      <th>hour</th>\n",
       "    </tr>\n",
       "  </thead>\n",
       "  <tbody>\n",
       "    <tr>\n",
       "      <th>2828</th>\n",
       "      <td>Tutorial</td>\n",
       "      <td>3737462046622621720</td>\n",
       "      <td>2019-08-01 00:07:28</td>\n",
       "      <td>246</td>\n",
       "      <td>2019-08-01</td>\n",
       "      <td>00:07:28</td>\n",
       "    </tr>\n",
       "    <tr>\n",
       "      <th>2829</th>\n",
       "      <td>MainScreenAppear</td>\n",
       "      <td>3737462046622621720</td>\n",
       "      <td>2019-08-01 00:08:00</td>\n",
       "      <td>246</td>\n",
       "      <td>2019-08-01</td>\n",
       "      <td>00:08:00</td>\n",
       "    </tr>\n",
       "    <tr>\n",
       "      <th>2830</th>\n",
       "      <td>MainScreenAppear</td>\n",
       "      <td>3737462046622621720</td>\n",
       "      <td>2019-08-01 00:08:55</td>\n",
       "      <td>246</td>\n",
       "      <td>2019-08-01</td>\n",
       "      <td>00:08:55</td>\n",
       "    </tr>\n",
       "    <tr>\n",
       "      <th>2831</th>\n",
       "      <td>OffersScreenAppear</td>\n",
       "      <td>3737462046622621720</td>\n",
       "      <td>2019-08-01 00:08:58</td>\n",
       "      <td>246</td>\n",
       "      <td>2019-08-01</td>\n",
       "      <td>00:08:58</td>\n",
       "    </tr>\n",
       "    <tr>\n",
       "      <th>2832</th>\n",
       "      <td>MainScreenAppear</td>\n",
       "      <td>1433840883824088890</td>\n",
       "      <td>2019-08-01 00:08:59</td>\n",
       "      <td>247</td>\n",
       "      <td>2019-08-01</td>\n",
       "      <td>00:08:59</td>\n",
       "    </tr>\n",
       "    <tr>\n",
       "      <th>...</th>\n",
       "      <td>...</td>\n",
       "      <td>...</td>\n",
       "      <td>...</td>\n",
       "      <td>...</td>\n",
       "      <td>...</td>\n",
       "      <td>...</td>\n",
       "    </tr>\n",
       "    <tr>\n",
       "      <th>244121</th>\n",
       "      <td>MainScreenAppear</td>\n",
       "      <td>4599628364049201812</td>\n",
       "      <td>2019-08-07 21:12:25</td>\n",
       "      <td>247</td>\n",
       "      <td>2019-08-07</td>\n",
       "      <td>21:12:25</td>\n",
       "    </tr>\n",
       "    <tr>\n",
       "      <th>244122</th>\n",
       "      <td>MainScreenAppear</td>\n",
       "      <td>5849806612437486590</td>\n",
       "      <td>2019-08-07 21:13:59</td>\n",
       "      <td>246</td>\n",
       "      <td>2019-08-07</td>\n",
       "      <td>21:13:59</td>\n",
       "    </tr>\n",
       "    <tr>\n",
       "      <th>244123</th>\n",
       "      <td>MainScreenAppear</td>\n",
       "      <td>5746969938801999050</td>\n",
       "      <td>2019-08-07 21:14:43</td>\n",
       "      <td>246</td>\n",
       "      <td>2019-08-07</td>\n",
       "      <td>21:14:43</td>\n",
       "    </tr>\n",
       "    <tr>\n",
       "      <th>244124</th>\n",
       "      <td>MainScreenAppear</td>\n",
       "      <td>5746969938801999050</td>\n",
       "      <td>2019-08-07 21:14:58</td>\n",
       "      <td>246</td>\n",
       "      <td>2019-08-07</td>\n",
       "      <td>21:14:58</td>\n",
       "    </tr>\n",
       "    <tr>\n",
       "      <th>244125</th>\n",
       "      <td>OffersScreenAppear</td>\n",
       "      <td>5746969938801999050</td>\n",
       "      <td>2019-08-07 21:15:17</td>\n",
       "      <td>246</td>\n",
       "      <td>2019-08-07</td>\n",
       "      <td>21:15:17</td>\n",
       "    </tr>\n",
       "  </tbody>\n",
       "</table>\n",
       "<p>240887 rows × 6 columns</p>\n",
       "</div>"
      ],
      "text/plain": [
       "                event_name              user_id          event_date  group  \\\n",
       "2828              Tutorial  3737462046622621720 2019-08-01 00:07:28    246   \n",
       "2829      MainScreenAppear  3737462046622621720 2019-08-01 00:08:00    246   \n",
       "2830      MainScreenAppear  3737462046622621720 2019-08-01 00:08:55    246   \n",
       "2831    OffersScreenAppear  3737462046622621720 2019-08-01 00:08:58    246   \n",
       "2832      MainScreenAppear  1433840883824088890 2019-08-01 00:08:59    247   \n",
       "...                    ...                  ...                 ...    ...   \n",
       "244121    MainScreenAppear  4599628364049201812 2019-08-07 21:12:25    247   \n",
       "244122    MainScreenAppear  5849806612437486590 2019-08-07 21:13:59    246   \n",
       "244123    MainScreenAppear  5746969938801999050 2019-08-07 21:14:43    246   \n",
       "244124    MainScreenAppear  5746969938801999050 2019-08-07 21:14:58    246   \n",
       "244125  OffersScreenAppear  5746969938801999050 2019-08-07 21:15:17    246   \n",
       "\n",
       "              date      hour  \n",
       "2828    2019-08-01  00:07:28  \n",
       "2829    2019-08-01  00:08:00  \n",
       "2830    2019-08-01  00:08:55  \n",
       "2831    2019-08-01  00:08:58  \n",
       "2832    2019-08-01  00:08:59  \n",
       "...            ...       ...  \n",
       "244121  2019-08-07  21:12:25  \n",
       "244122  2019-08-07  21:13:59  \n",
       "244123  2019-08-07  21:14:43  \n",
       "244124  2019-08-07  21:14:58  \n",
       "244125  2019-08-07  21:15:17  \n",
       "\n",
       "[240887 rows x 6 columns]"
      ]
     },
     "execution_count": 62,
     "metadata": {},
     "output_type": "execute_result"
    }
   ],
   "source": [
    "new_data"
   ]
  },
  {
   "cell_type": "code",
   "execution_count": 63,
   "metadata": {},
   "outputs": [
    {
     "name": "stdout",
     "output_type": "stream",
     "text": [
      "   group  user_id\n",
      "0    246     2484\n",
      "1    247     2513\n",
      "2    248     2537\n"
     ]
    },
    {
     "data": {
      "image/png": "[encoded data removed]",
      "text/plain": [
       "<Figure size 640x480 with 1 Axes>"
      ]
     },
     "metadata": {},
     "output_type": "display_data"
    }
   ],
   "source": [
    "#cuantos usuarios hay en cada grupo\n",
    "\n",
    "groups_quantity = new_data.groupby('group')['user_id'].nunique().reset_index()\n",
    "print(groups_quantity)\n",
    "\n",
    "sns.barplot(groups_quantity, x='group', y = 'user_id', palette='plasma')\n",
    "plt.title('Cantidad de Usuarios por grupo')\n",
    "plt.ylabel('Usuarios')\n",
    "plt.xlabel('Grupos')\n",
    "plt.show()"
   ]
  },
  {
   "cell_type": "markdown",
   "metadata": {},
   "source": [
    "Los tres grupos tienen un número similar de usuarios, lo que sugiere una buena distribución aleatoria de los usuarios entre los grupos de control y el grupo de prueba. Esto es buen indicio de que el experimento está bien equilibrado en términos de tamaño de muestra."
   ]
  },
  {
   "cell_type": "code",
   "execution_count": 64,
   "metadata": {},
   "outputs": [
    {
     "name": "stdout",
     "output_type": "stream",
     "text": [
      "Chi2: 347.1835264073801, p-value: 7.113427142599721e-74\n"
     ]
    }
   ],
   "source": [
    "#comparar grupos de control (246 vs 247)\n",
    "#Comparación usando una prueba de chi-cuadrado\n",
    "\n",
    "# se selecciona los grupos 246 y 247\n",
    "control_1 = new_data[new_data['group'] == 246]\n",
    "control_2 = new_data[new_data['group'] == 247]\n",
    "\n",
    "# Contamos los eventos en cada grupo\n",
    "eventos_control_1 = control_1['event_name'].value_counts()\n",
    "eventos_control_2 = control_2['event_name'].value_counts()\n",
    "\n",
    "# Crear una tabla de contingencia\n",
    "tabla_contingencia = pd.DataFrame([eventos_control_1, eventos_control_2]).fillna(0)\n",
    "\n",
    "# Prueba de chi-cuadrado\n",
    "chi2, p, _, _ = stats.chi2_contingency(tabla_contingencia)\n",
    "print(f\"Chi2: {chi2}, p-value: {p}\")"
   ]
  },
  {
   "cell_type": "markdown",
   "metadata": {},
   "source": [
    " El valor p extremadamente bajo sugiere que hay una diferencia estadísticamente significativa entre los grupos de control (246 y 247).\n",
    " Esto podría ser preocupante, debido a que los grupos de control deberían ser similares si el experimento estuviera bien configurado. Esta diferencia podría indicar un problema con la recopilación de datos o lo aleatorio de la prueba, lo que podría afectar la validez del experimento."
   ]
  },
  {
   "cell_type": "code",
   "execution_count": 65,
   "metadata": {},
   "outputs": [
    {
     "name": "stdout",
     "output_type": "stream",
     "text": [
      "Evento: Tutorial, Z-test statistic: 0.0012766629523960308, p-value: 0.9989813706176395\n",
      "Evento: MainScreenAppear, Z-test statistic: 0.008888469158259618, p-value: 0.9929081210717539\n",
      "Evento: OffersScreenAppear, Z-test statistic: 0.020806353717147306, p-value: 0.9834001293038448\n",
      "Evento: CartScreenAppear, Z-test statistic: 0.022816835660709276, p-value: 0.9817963786054364\n",
      "Evento: PaymentScreenSuccessful, Z-test statistic: 0.028582308543983137, p-value: 0.977197722056851\n"
     ]
    }
   ],
   "source": [
    "#Eventos mas populares y analisis de proporciones\n",
    "eventos = new_data['event_name'].unique()\n",
    "\n",
    "for evento in eventos:\n",
    "    # Proporciones\n",
    "    prop_246 = control_1[control_1['event_name'] == evento]['user_id'].nunique() / control_1['user_id'].nunique()\n",
    "    prop_247 = control_2[control_2['event_name'] == evento]['user_id'].nunique() / control_2['user_id'].nunique()\n",
    "    \n",
    "    # Prueba de proporciones\n",
    "    prop_test = sm.stats.proportions_ztest([prop_246, prop_247], [control_1['user_id'].nunique(), control_2['user_id'].nunique()])\n",
    "    print(f\"Evento: {evento}, Z-test statistic: {prop_test[0]}, p-value: {prop_test[1]}\")"
   ]
  },
  {
   "cell_type": "markdown",
   "metadata": {},
   "source": [
    "Las pruebas Z realizadas entre los grupos 246 y 247 resultaron en p-valores muy altos (todos mayores que 0.97), indicando que no hay diferencias estadísticamente significativas entre estos grupos en términos de proporciones de usuarios que realizan estos eventos.\n",
    "\n",
    "A pesar de la diferencia global significativa entre los grupos 246 y 247 observada en el paso anterior, no parece haber una diferencia significativa en la frecuencia de eventos individuales, lo que sugiere que, al menos en términos de comportamiento específico de eventos, los grupos pueden ser \n",
    "comparables."
   ]
  },
  {
   "cell_type": "code",
   "execution_count": 66,
   "metadata": {},
   "outputs": [
    {
     "name": "stdout",
     "output_type": "stream",
     "text": [
      "Evento: Tutorial\n",
      "Comparación con control 246: Z-test statistic: -0.009099599833988746, p-value: 0.9927396699789565\n",
      "Comparación con control 247: Z-test statistic: -0.007842366294778186, p-value: 0.9937427611528249\n",
      "Evento: MainScreenAppear\n",
      "Comparación con control 246: Z-test statistic: -0.017421366224465034, p-value: 0.9861004639590968\n",
      "Comparación con control 247: Z-test statistic: -0.008536244386867379, p-value: 0.9931891451115376\n",
      "Evento: OffersScreenAppear\n",
      "Comparación con control 246: Z-test statistic: -0.02732361636948874, p-value: 0.9782016207595986\n",
      "Comparación con control 247: Z-test statistic: -0.006485906046076767, p-value: 0.9948250319855865\n",
      "Evento: CartScreenAppear\n",
      "Comparación con control 246: Z-test statistic: -0.03543800525453853, p-value: 0.9717304799221358\n",
      "Comparación con control 247: Z-test statistic: -0.012603229340768973, p-value: 0.9899443441025072\n",
      "Evento: PaymentScreenSuccessful\n",
      "Comparación con control 246: Z-test statistic: -0.028336435583944886, p-value: 0.9773938208652801\n",
      "Comparación con control 247: Z-test statistic: 0.00031624531900695176, p-value: 0.9997476727467441\n"
     ]
    }
   ],
   "source": [
    "# Análisis del grupo de prueba (248) comparado con los grupos de control\n",
    "# Grupo 248\n",
    "grupo_248 = new_data[new_data['group'] == 248]\n",
    "\n",
    "for evento in eventos:\n",
    "    # Proporciones para el grupo de prueba y controles\n",
    "    prop_248 = grupo_248[grupo_248['event_name'] == evento]['user_id'].nunique() / grupo_248['user_id'].nunique()\n",
    "    prop_246 = control_1[control_1['event_name'] == evento]['user_id'].nunique() / control_1['user_id'].nunique()\n",
    "    prop_247 = control_2[control_2['event_name'] == evento]['user_id'].nunique() / control_2['user_id'].nunique()\n",
    "\n",
    "    # Comparación con el grupo de control 246\n",
    "    prop_test_246 = sm.stats.proportions_ztest([prop_248, prop_246], [grupo_248['user_id'].nunique(), control_1['user_id'].nunique()])\n",
    "    \n",
    "    # Comparación con el grupo de control 247\n",
    "    prop_test_247 = sm.stats.proportions_ztest([prop_248, prop_247], [grupo_248['user_id'].nunique(), control_2['user_id'].nunique()])\n",
    "    \n",
    "    print(f\"Evento: {evento}\")\n",
    "    print(f\"Comparación con control 246: Z-test statistic: {prop_test_246[0]}, p-value: {prop_test_246[1]}\")\n",
    "    print(f\"Comparación con control 247: Z-test statistic: {prop_test_247[0]}, p-value: {prop_test_247[1]}\")"
   ]
  },
  {
   "cell_type": "markdown",
   "metadata": {},
   "source": [
    "Los valores p en las comparaciones entre el grupo 248 y los controles (246 y 247) son altos (todos mayores que 0.97), lo que sugiere que no hay diferencias estadísticamente significativas en los eventos entre el grupo de prueba y los grupos de control.  Esto indica que el cambio de fuente no afectó significativamente el comportamiento del usuario en la aplicación, al menos en términos de los eventos analizados."
   ]
  },
  {
   "cell_type": "code",
   "execution_count": 67,
   "metadata": {},
   "outputs": [
    {
     "name": "stdout",
     "output_type": "stream",
     "text": [
      "Nivel de significancia ajustado: 0.0033333333333333335\n"
     ]
    }
   ],
   "source": [
    "#Nivel de significancia\n",
    "#corrección de Bonferroni\n",
    "# Nivel de significancia ajustado por número de pruebas\n",
    "n_tests = len(eventos) * 3  # 3 comparaciones por evento (control 1, control 2, control combinado)\n",
    "significancia_ajustada = 0.05 / n_tests\n",
    "print(f\"Nivel de significancia ajustado: {significancia_ajustada}\")\n"
   ]
  },
  {
   "cell_type": "markdown",
   "metadata": {},
   "source": [
    "Dado el número de pruebas realizadas, el nivel de significancia ajustado (0.0033) es más estricto que el convencional (0.05). Esto refuerza la conclusión de que las diferencias observadas no son estadísticamente significativas y que el cambio de fuente no tuvo un impacto observable en el comportamiento de los usuarios."
   ]
  },
  {
   "cell_type": "markdown",
   "metadata": {},
   "source": [
    "---\n",
    "\n",
    "CONCLUSIONES\n",
    "\n",
    "* Los datos de la tienda se nivelan desde el 01 de agosto del 2019 hasta el 07 de agosto de 2019, por lo que los siguientes calculos se realizan en base a los datos recaudados en estas fechas \n",
    "* Segun el embudo de eventos, el evento mas popular corresponde a 'Abrir la pagina principal', pero el paso de esta accion a 'Abrir la pagina de ofertas' es tambien el momento en donde se pierden más usuarios, ya que solo un 62% de los usuarios que entra a la pagina principal, luego pasan a la pagina de ofertas. \n",
    "* Continuando con la idea anterior, el 81% de los usuarios que entra a la pagina de ofertas, luego llega hasta el carrito de compras; y el 94% de quienes llegan al carrito de compras, finalmente realizan un pago exitoso. \n",
    "* El 47.7% de los usuarios realizan un viaje completo desde el primer evento de abrir la pagina principal y realizar un pago exitoso. \n",
    "* Aparentemente entre los grupos de prueba A 246 y 247 no habria una diferencia significativa en cada uno de los eventos y tampoco entre estos dos grupos frente al grupo B 248. \n",
    "*  Dado que los grupos de control no eran completamente equivalentes, es necesario tener precaución al interpretar los resultados. Sin embargo, los análisis de eventos específicos no muestran diferencias significativas, lo que podría sugerir que el cambio en la fuente (página) no tuvo un impacto negativo o positivo significativo.\n",
    "* Segun todo lo anterior se recomienda NO CONTINUAR con la prueba A/B. \n"
   ]
  }
 ],
 "metadata": {
  "ExecuteTimeLog": [
   {
    "duration": 5009,
    "start_time": "2024-07-09T04:41:43.478Z"
   },
   {
    "duration": 1150,
    "start_time": "2024-07-09T04:41:48.491Z"
   },
   {
    "duration": 0,
    "start_time": "2024-07-09T04:41:49.647Z"
   },
   {
    "duration": 0,
    "start_time": "2024-07-09T04:41:49.649Z"
   },
   {
    "duration": 0,
    "start_time": "2024-07-09T04:41:49.651Z"
   },
   {
    "duration": 0,
    "start_time": "2024-07-09T04:41:49.654Z"
   },
   {
    "duration": 0,
    "start_time": "2024-07-09T04:41:49.657Z"
   },
   {
    "duration": 0,
    "start_time": "2024-07-09T04:41:49.659Z"
   },
   {
    "duration": 0,
    "start_time": "2024-07-09T04:41:49.661Z"
   },
   {
    "duration": 0,
    "start_time": "2024-07-09T04:41:49.664Z"
   },
   {
    "duration": 0,
    "start_time": "2024-07-09T04:41:49.667Z"
   },
   {
    "duration": 0,
    "start_time": "2024-07-09T04:41:49.669Z"
   },
   {
    "duration": 0,
    "start_time": "2024-07-09T04:41:49.671Z"
   },
   {
    "duration": 0,
    "start_time": "2024-07-09T04:41:49.673Z"
   },
   {
    "duration": 0,
    "start_time": "2024-07-09T04:41:49.675Z"
   },
   {
    "duration": 0,
    "start_time": "2024-07-09T04:41:49.677Z"
   },
   {
    "duration": 0,
    "start_time": "2024-07-09T04:41:49.679Z"
   },
   {
    "duration": 0,
    "start_time": "2024-07-09T04:41:49.681Z"
   },
   {
    "duration": 0,
    "start_time": "2024-07-09T04:41:49.732Z"
   },
   {
    "duration": 0,
    "start_time": "2024-07-09T04:41:49.734Z"
   },
   {
    "duration": 0,
    "start_time": "2024-07-09T04:41:49.737Z"
   },
   {
    "duration": 0,
    "start_time": "2024-07-09T04:41:49.738Z"
   },
   {
    "duration": 0,
    "start_time": "2024-07-09T04:41:49.741Z"
   },
   {
    "duration": 0,
    "start_time": "2024-07-09T04:41:49.743Z"
   },
   {
    "duration": 0,
    "start_time": "2024-07-09T04:41:49.746Z"
   },
   {
    "duration": 0,
    "start_time": "2024-07-09T04:41:49.748Z"
   },
   {
    "duration": 0,
    "start_time": "2024-07-09T04:41:49.751Z"
   },
   {
    "duration": 0,
    "start_time": "2024-07-09T04:41:49.753Z"
   },
   {
    "duration": 0,
    "start_time": "2024-07-09T04:41:49.756Z"
   },
   {
    "duration": 0,
    "start_time": "2024-07-09T04:41:49.758Z"
   },
   {
    "duration": 0,
    "start_time": "2024-07-09T04:41:49.760Z"
   },
   {
    "duration": 0,
    "start_time": "2024-07-09T04:41:49.763Z"
   },
   {
    "duration": 0,
    "start_time": "2024-07-09T04:41:49.766Z"
   },
   {
    "duration": 0,
    "start_time": "2024-07-09T04:41:49.769Z"
   },
   {
    "duration": 0,
    "start_time": "2024-07-09T04:41:49.771Z"
   },
   {
    "duration": 8,
    "start_time": "2024-07-09T04:42:23.178Z"
   },
   {
    "duration": 232,
    "start_time": "2024-07-09T04:42:23.191Z"
   },
   {
    "duration": 34,
    "start_time": "2024-07-09T04:42:23.430Z"
   },
   {
    "duration": 16,
    "start_time": "2024-07-09T04:42:23.467Z"
   },
   {
    "duration": 54,
    "start_time": "2024-07-09T04:42:23.489Z"
   },
   {
    "duration": 34,
    "start_time": "2024-07-09T04:42:23.546Z"
   },
   {
    "duration": 239,
    "start_time": "2024-07-09T04:42:23.583Z"
   },
   {
    "duration": 225,
    "start_time": "2024-07-09T04:42:23.831Z"
   },
   {
    "duration": 21,
    "start_time": "2024-07-09T04:42:24.059Z"
   },
   {
    "duration": 53,
    "start_time": "2024-07-09T04:42:24.083Z"
   },
   {
    "duration": 414,
    "start_time": "2024-07-09T04:42:24.139Z"
   },
   {
    "duration": 0,
    "start_time": "2024-07-09T04:42:24.558Z"
   },
   {
    "duration": 0,
    "start_time": "2024-07-09T04:42:24.560Z"
   },
   {
    "duration": 0,
    "start_time": "2024-07-09T04:42:24.562Z"
   },
   {
    "duration": 0,
    "start_time": "2024-07-09T04:42:24.566Z"
   },
   {
    "duration": 0,
    "start_time": "2024-07-09T04:42:24.567Z"
   },
   {
    "duration": 0,
    "start_time": "2024-07-09T04:42:24.569Z"
   },
   {
    "duration": 0,
    "start_time": "2024-07-09T04:42:24.571Z"
   },
   {
    "duration": 0,
    "start_time": "2024-07-09T04:42:24.573Z"
   },
   {
    "duration": 0,
    "start_time": "2024-07-09T04:42:24.575Z"
   },
   {
    "duration": 0,
    "start_time": "2024-07-09T04:42:24.578Z"
   },
   {
    "duration": 0,
    "start_time": "2024-07-09T04:42:24.579Z"
   },
   {
    "duration": 0,
    "start_time": "2024-07-09T04:42:24.581Z"
   },
   {
    "duration": 0,
    "start_time": "2024-07-09T04:42:24.583Z"
   },
   {
    "duration": 0,
    "start_time": "2024-07-09T04:42:24.584Z"
   },
   {
    "duration": 0,
    "start_time": "2024-07-09T04:42:24.631Z"
   },
   {
    "duration": 0,
    "start_time": "2024-07-09T04:42:24.634Z"
   },
   {
    "duration": 0,
    "start_time": "2024-07-09T04:42:24.636Z"
   },
   {
    "duration": 0,
    "start_time": "2024-07-09T04:42:24.638Z"
   },
   {
    "duration": 0,
    "start_time": "2024-07-09T04:42:24.640Z"
   },
   {
    "duration": 0,
    "start_time": "2024-07-09T04:42:24.642Z"
   },
   {
    "duration": 0,
    "start_time": "2024-07-09T04:42:24.647Z"
   },
   {
    "duration": 0,
    "start_time": "2024-07-09T04:42:24.649Z"
   },
   {
    "duration": 0,
    "start_time": "2024-07-09T04:42:24.652Z"
   },
   {
    "duration": 0,
    "start_time": "2024-07-09T04:42:24.654Z"
   },
   {
    "duration": 854,
    "start_time": "2024-07-09T04:42:57.644Z"
   },
   {
    "duration": 0,
    "start_time": "2024-07-09T04:42:58.501Z"
   },
   {
    "duration": 12,
    "start_time": "2024-07-09T04:43:03.867Z"
   },
   {
    "duration": 574,
    "start_time": "2024-07-09T04:43:04.198Z"
   },
   {
    "duration": 150,
    "start_time": "2024-07-09T04:43:07.447Z"
   },
   {
    "duration": 23,
    "start_time": "2024-07-09T04:43:10.961Z"
   },
   {
    "duration": 44,
    "start_time": "2024-07-09T04:43:11.257Z"
   },
   {
    "duration": 1063,
    "start_time": "2024-07-09T04:43:12.177Z"
   },
   {
    "duration": 527,
    "start_time": "2024-07-09T04:43:13.244Z"
   },
   {
    "duration": 41,
    "start_time": "2024-07-09T04:43:24.598Z"
   },
   {
    "duration": 87,
    "start_time": "2024-07-09T04:43:24.886Z"
   },
   {
    "duration": 10,
    "start_time": "2024-07-09T04:43:25.210Z"
   },
   {
    "duration": 125,
    "start_time": "2024-07-09T04:43:27.178Z"
   },
   {
    "duration": 78,
    "start_time": "2024-07-09T04:43:27.391Z"
   },
   {
    "duration": 511,
    "start_time": "2024-07-09T04:43:27.825Z"
   },
   {
    "duration": 16,
    "start_time": "2024-07-09T04:43:28.478Z"
   },
   {
    "duration": 78,
    "start_time": "2024-07-09T04:43:28.685Z"
   },
   {
    "duration": 10,
    "start_time": "2024-07-09T04:43:29.240Z"
   },
   {
    "duration": 5,
    "start_time": "2024-07-09T04:43:29.579Z"
   },
   {
    "duration": 203,
    "start_time": "2024-07-09T04:43:31.244Z"
   },
   {
    "duration": 159,
    "start_time": "2024-07-09T04:43:31.972Z"
   }
  ],
  "kernelspec": {
   "display_name": "Python 3 (ipykernel)",
   "language": "python",
   "name": "python3"
  },
  "language_info": {
   "codemirror_mode": {
    "name": "ipython",
    "version": 3
   },
   "file_extension": ".py",
   "mimetype": "text/x-python",
   "name": "python",
   "nbconvert_exporter": "python",
   "pygments_lexer": "ipython3",
   "version": "3.11.7"
  },
  "toc": {
   "base_numbering": 1,
   "nav_menu": {},
   "number_sections": true,
   "sideBar": true,
   "skip_h1_title": true,
   "title_cell": "Table of Contents",
   "title_sidebar": "Contents",
   "toc_cell": false,
   "toc_position": {},
   "toc_section_display": true,
   "toc_window_display": false
  }
 },
 "nbformat": 4,
 "nbformat_minor": 2
}
